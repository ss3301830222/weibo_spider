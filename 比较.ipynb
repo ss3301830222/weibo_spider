{
 "cells": [
  {
   "cell_type": "code",
   "execution_count": 1,
   "metadata": {},
   "outputs": [],
   "source": [
    "import pandas as pd\n",
    "import matplotlib.pyplot as plt\n",
    "from matplotlib.font_manager import FontProperties \n",
    "font = FontProperties(fname=r\"c:\\windows\\fonts\\msyhl.ttc\", size=12) \n",
    "import numpy as np"
   ]
  },
  {
   "cell_type": "markdown",
   "metadata": {},
   "source": [
    "1.粉丝关注比：每个用户的粉丝数与关注数的比值。\n",
    "2.相互关注数：水军用户的互粉比例要明显低于正常用户。\n",
    "3.平均发布微博数：一个用户在其创建微博后的时间内一共发布多少条微博。\n",
    "4.综合质量评价：涉及多个属性变量，分别为是否有评论、是否有简介、是否进行认证和等级数，给各个属性的权重分别为 0.2、0.3、0.3、0.2。\n",
    "5.微博原创比、非空转发比\n",
    "6.原创微博交互性\n",
    "7.情感倾向较为明显\n",
    "8.传播间隔时间（平均、方差）\n",
    "9.事件参与度：当用户在单位时间内，其微博所参与的舆情事件越多，且更加集中于很少的一个或几个主题，那么这个用户的水军行为疑似性会对应升高。\n",
    "10.二阶关联性：正常用户的朋友圈内部往往比较紧密，其所关注的如亲戚朋友圈、同学同事圈之内的用户，往往也会相互关注。\n",
    "11.引导工具使用率：水军为了达到话题集聚和热度哄抬等左右舆情的目的，经常大规模的使用两种引导工具，即话题符号“＃”和“@”"
   ]
  },
  {
   "cell_type": "code",
   "execution_count": 2,
   "metadata": {},
   "outputs": [],
   "source": [
    "f = open('1191258123微博信息.csv',encoding='utf-8')\n",
    "h_weibo = pd.read_csv(f,names=[\n",
    "    'scheme','star_id','weibo_id','weibo_text','attitudes_count','comments_count','created_at','reposts_count','text'])\n",
    "f = open('1776448504微博信息.csv',encoding='utf-8')\n",
    "c_weibo = pd.read_csv(f,names=[\n",
    "    'scheme','star_id','weibo_id','weibo_text','attitudes_count','comments_count','created_at','reposts_count','text'])\n",
    "f = open('4441079325631960蔡徐坤转发.csv',encoding='utf-8')\n",
    "c_repost = pd.read_csv(f,names=[\n",
    "    'screen_name','gender','followers_count','follow_count','created_at','source','statuses_count','id','urank','mbrank',\n",
    "    'description','badge','reposts_count','comments_count','attitudes_count','raw_text','repost_id','pending_approval_count',\n",
    "    'isLongText','cover_image_phone','avatar_hd','mbtype','verified','profile_url','weibo_id'])\n",
    "f = open('4441079325631960蔡徐坤评论.csv',encoding='utf-8')\n",
    "c_comment = pd.read_csv(f,names=[\n",
    "    'created_at','comment_id','floor_number','text','total_number','isLikedByMblogAuthor','like_count','id','screen_name',\n",
    "    'profile_image_url','profile_url','statuses_count','verified','description','gender','mbtype','urank','mbrank','followers_count',\n",
    "    'follow_count','cover_image_phone','avatar_hd','badge','weibo_id'])\n",
    "f = open('4441079325631960蔡徐坤点赞.csv',encoding='utf-8')\n",
    "c_attitude = pd.read_csv(f,names=[\n",
    "    'total_number','attitude_id','created_at','source','id','screen_name','profile_image_url','verified','followers_count','mbtype',\n",
    "    'profile_url','weibo_id'])\n",
    "f = open('4336245443847204韩寒转发.csv',encoding='utf-8')\n",
    "h_repost = pd.read_csv(f,names=[\n",
    "    'screen_name','gender','followers_count','follow_count','created_at','source','statuses_count','id','urank','mbrank',\n",
    "    'description','badge','reposts_count','comments_count','attitudes_count','raw_text','repost_id','pending_approval_count',\n",
    "    'isLongText','cover_image_phone','avatar_hd','mbtype','verified','profile_url','weibo_id'])\n",
    "f = open('4336245443847204韩寒评论.csv',encoding='utf-8')\n",
    "h_comment = pd.read_csv(f,names=[\n",
    "    'created_at','comment_id','floor_number','text','total_number','isLikedByMblogAuthor','like_count','id','screen_name',\n",
    "    'profile_image_url','profile_url','statuses_count','verified','description','gender','mbtype','urank','mbrank','followers_count',\n",
    "    'follow_count','cover_image_phone','avatar_hd','badge','weibo_id'])\n",
    "f = open('4336245443847204韩寒点赞.csv',encoding='utf-8')\n",
    "h_attitude = pd.read_csv(f,names=[\n",
    "    'total_number','attitude_id','created_at','source','id','screen_name','profile_image_url','verified','followers_count',\n",
    "    'mbtype','profile_url','weibo_id'])"
   ]
  },
  {
   "cell_type": "markdown",
   "metadata": {},
   "source": [
    "# 微博内容 "
   ]
  },
  {
   "cell_type": "code",
   "execution_count": 3,
   "metadata": {},
   "outputs": [
    {
     "data": {
      "text/plain": [
       "735"
      ]
     },
     "execution_count": 3,
     "metadata": {},
     "output_type": "execute_result"
    }
   ],
   "source": [
    "len(h_weibo)"
   ]
  },
  {
   "cell_type": "code",
   "execution_count": 4,
   "metadata": {},
   "outputs": [
    {
     "data": {
      "text/plain": [
       "429"
      ]
     },
     "execution_count": 4,
     "metadata": {},
     "output_type": "execute_result"
    }
   ],
   "source": [
    "len(c_weibo)"
   ]
  },
  {
   "cell_type": "code",
   "execution_count": 5,
   "metadata": {},
   "outputs": [
    {
     "data": {
      "text/html": [
       "<div>\n",
       "<style scoped>\n",
       "    .dataframe tbody tr th:only-of-type {\n",
       "        vertical-align: middle;\n",
       "    }\n",
       "\n",
       "    .dataframe tbody tr th {\n",
       "        vertical-align: top;\n",
       "    }\n",
       "\n",
       "    .dataframe thead th {\n",
       "        text-align: right;\n",
       "    }\n",
       "</style>\n",
       "<table border=\"1\" class=\"dataframe\">\n",
       "  <thead>\n",
       "    <tr style=\"text-align: right;\">\n",
       "      <th></th>\n",
       "      <th>scheme</th>\n",
       "      <th>star_id</th>\n",
       "      <th>weibo_id</th>\n",
       "      <th>weibo_text</th>\n",
       "      <th>attitudes_count</th>\n",
       "      <th>comments_count</th>\n",
       "      <th>created_at</th>\n",
       "      <th>reposts_count</th>\n",
       "      <th>text</th>\n",
       "    </tr>\n",
       "  </thead>\n",
       "  <tbody>\n",
       "    <tr>\n",
       "      <th>0</th>\n",
       "      <td>https://m.weibo.cn/status/Igidl74UJ?mblogid=Ig...</td>\n",
       "      <td>1776448504</td>\n",
       "      <td>4438832671687189</td>\n",
       "      <td>NaN</td>\n",
       "      <td>654396</td>\n",
       "      <td>351209</td>\n",
       "      <td>11-15</td>\n",
       "      <td>725797</td>\n",
       "      <td>《重生》&lt;br /&gt;&lt;br /&gt;QQ音乐：&lt;br /&gt;&lt;a data-url=\"http:/...</td>\n",
       "    </tr>\n",
       "    <tr>\n",
       "      <th>1</th>\n",
       "      <td>https://m.weibo.cn/status/Ihlmuf511?mblogid=Ih...</td>\n",
       "      <td>1776448504</td>\n",
       "      <td>4441336943594203</td>\n",
       "      <td>NaN</td>\n",
       "      <td>599834</td>\n",
       "      <td>140681</td>\n",
       "      <td>昨天 07:58</td>\n",
       "      <td>354927</td>\n",
       "      <td>vivo S5夺目开售，今天起，一起幸会小美好，发现更美的我们。&lt;a  href=\"http...</td>\n",
       "    </tr>\n",
       "    <tr>\n",
       "      <th>2</th>\n",
       "      <td>https://m.weibo.cn/status/IheEYnD84?mblogid=Ih...</td>\n",
       "      <td>1776448504</td>\n",
       "      <td>4441079325631960</td>\n",
       "      <td>NaN</td>\n",
       "      <td>597022</td>\n",
       "      <td>185968</td>\n",
       "      <td>11-21</td>\n",
       "      <td>449552</td>\n",
       "      <td>明信片5.0～</td>\n",
       "    </tr>\n",
       "    <tr>\n",
       "      <th>3</th>\n",
       "      <td>https://m.weibo.cn/status/IgigxnPqM?mblogid=Ig...</td>\n",
       "      <td>1776448504</td>\n",
       "      <td>4438834655679248</td>\n",
       "      <td>NaN</td>\n",
       "      <td>534848</td>\n",
       "      <td>242412</td>\n",
       "      <td>11-15</td>\n",
       "      <td>552205</td>\n",
       "      <td>起死回生后疯了渡 成了妖 &lt;a data-url=\"http://t.cn/AiBUoLgv...</td>\n",
       "    </tr>\n",
       "    <tr>\n",
       "      <th>4</th>\n",
       "      <td>https://m.weibo.cn/status/IghYc1VUk?mblogid=Ig...</td>\n",
       "      <td>1776448504</td>\n",
       "      <td>4438823280460928</td>\n",
       "      <td>NaN</td>\n",
       "      <td>439747</td>\n",
       "      <td>220297</td>\n",
       "      <td>11-15</td>\n",
       "      <td>563107</td>\n",
       "      <td>-《重生》概念片&lt;br /&gt;&lt;br /&gt;&lt;a  href=\"https://m.weibo....</td>\n",
       "    </tr>\n",
       "  </tbody>\n",
       "</table>\n",
       "</div>"
      ],
      "text/plain": [
       "                                              scheme     star_id  \\\n",
       "0  https://m.weibo.cn/status/Igidl74UJ?mblogid=Ig...  1776448504   \n",
       "1  https://m.weibo.cn/status/Ihlmuf511?mblogid=Ih...  1776448504   \n",
       "2  https://m.weibo.cn/status/IheEYnD84?mblogid=Ih...  1776448504   \n",
       "3  https://m.weibo.cn/status/IgigxnPqM?mblogid=Ig...  1776448504   \n",
       "4  https://m.weibo.cn/status/IghYc1VUk?mblogid=Ig...  1776448504   \n",
       "\n",
       "           weibo_id weibo_text  attitudes_count comments_count created_at  \\\n",
       "0  4438832671687189        NaN           654396         351209      11-15   \n",
       "1  4441336943594203        NaN           599834         140681   昨天 07:58   \n",
       "2  4441079325631960        NaN           597022         185968      11-21   \n",
       "3  4438834655679248        NaN           534848         242412      11-15   \n",
       "4  4438823280460928        NaN           439747         220297      11-15   \n",
       "\n",
       "  reposts_count                                               text  \n",
       "0        725797  《重生》<br /><br />QQ音乐：<br /><a data-url=\"http:/...  \n",
       "1        354927  vivo S5夺目开售，今天起，一起幸会小美好，发现更美的我们。<a  href=\"http...  \n",
       "2        449552                                           明信片5.0～   \n",
       "3        552205  起死回生后疯了渡 成了妖 <a data-url=\"http://t.cn/AiBUoLgv...  \n",
       "4        563107  -《重生》概念片<br /><br /><a  href=\"https://m.weibo....  "
      ]
     },
     "execution_count": 5,
     "metadata": {},
     "output_type": "execute_result"
    }
   ],
   "source": [
    "c_weibo.head()"
   ]
  },
  {
   "cell_type": "markdown",
   "metadata": {},
   "source": [
    "# 点赞数变化"
   ]
  },
  {
   "cell_type": "code",
   "execution_count": 6,
   "metadata": {},
   "outputs": [
    {
     "data": {
      "image/png": "[encoded data removed]",
      "text/plain": [
       "<matplotlib.figure.Figure at 0x296e103b9b0>"
      ]
     },
     "metadata": {},
     "output_type": "display_data"
    }
   ],
   "source": [
    "plt.bar(c_weibo['attitudes_count'].index,c_weibo['attitudes_count'])\n",
    "plt.show()"
   ]
  },
  {
   "cell_type": "code",
   "execution_count": 7,
   "metadata": {},
   "outputs": [
    {
     "data": {
      "image/png": "[encoded data removed]",
      "text/plain": [
       "<matplotlib.figure.Figure at 0x296e53d14a8>"
      ]
     },
     "metadata": {},
     "output_type": "display_data"
    }
   ],
   "source": [
    "plt.bar(h_weibo['attitudes_count'].index,h_weibo['attitudes_count'])\n",
    "plt.show()"
   ]
  },
  {
   "cell_type": "markdown",
   "metadata": {},
   "source": [
    "# 点赞部分分析"
   ]
  },
  {
   "cell_type": "code",
   "execution_count": 8,
   "metadata": {},
   "outputs": [
    {
     "data": {
      "text/plain": [
       "2475"
      ]
     },
     "execution_count": 8,
     "metadata": {},
     "output_type": "execute_result"
    }
   ],
   "source": [
    "len(c_attitude)"
   ]
  },
  {
   "cell_type": "code",
   "execution_count": 9,
   "metadata": {},
   "outputs": [
    {
     "data": {
      "text/plain": [
       "2498"
      ]
     },
     "execution_count": 9,
     "metadata": {},
     "output_type": "execute_result"
    }
   ],
   "source": [
    "len(h_attitude)"
   ]
  },
  {
   "cell_type": "code",
   "execution_count": 10,
   "metadata": {},
   "outputs": [
    {
     "data": {
      "text/html": [
       "<div>\n",
       "<style scoped>\n",
       "    .dataframe tbody tr th:only-of-type {\n",
       "        vertical-align: middle;\n",
       "    }\n",
       "\n",
       "    .dataframe tbody tr th {\n",
       "        vertical-align: top;\n",
       "    }\n",
       "\n",
       "    .dataframe thead th {\n",
       "        text-align: right;\n",
       "    }\n",
       "</style>\n",
       "<table border=\"1\" class=\"dataframe\">\n",
       "  <thead>\n",
       "    <tr style=\"text-align: right;\">\n",
       "      <th></th>\n",
       "      <th>total_number</th>\n",
       "      <th>attitude_id</th>\n",
       "      <th>created_at</th>\n",
       "      <th>source</th>\n",
       "      <th>id</th>\n",
       "      <th>screen_name</th>\n",
       "      <th>profile_image_url</th>\n",
       "      <th>verified</th>\n",
       "      <th>followers_count</th>\n",
       "      <th>mbtype</th>\n",
       "      <th>profile_url</th>\n",
       "      <th>weibo_id</th>\n",
       "    </tr>\n",
       "  </thead>\n",
       "  <tbody>\n",
       "    <tr>\n",
       "      <th>0</th>\n",
       "      <td>581216</td>\n",
       "      <td>4441641614152711</td>\n",
       "      <td>刚刚</td>\n",
       "      <td>OPPO智能手机</td>\n",
       "      <td>6618438638</td>\n",
       "      <td>Desting婷儿</td>\n",
       "      <td>https://tvax1.sinaimg.cn/crop.0.0.664.664.180/...</td>\n",
       "      <td>False</td>\n",
       "      <td>1</td>\n",
       "      <td>0</td>\n",
       "      <td>https://m.weibo.cn/u/6618438638?uid=6618438638</td>\n",
       "      <td>NaN</td>\n",
       "    </tr>\n",
       "    <tr>\n",
       "      <th>1</th>\n",
       "      <td>581216</td>\n",
       "      <td>4441641580014663</td>\n",
       "      <td>刚刚</td>\n",
       "      <td>三星android智能手机</td>\n",
       "      <td>5681330112</td>\n",
       "      <td>宛如我心田</td>\n",
       "      <td>https://tvax4.sinaimg.cn/crop.0.0.1544.1544.18...</td>\n",
       "      <td>False</td>\n",
       "      <td>167</td>\n",
       "      <td>0</td>\n",
       "      <td>https://m.weibo.cn/u/5681330112?uid=5681330112</td>\n",
       "      <td>NaN</td>\n",
       "    </tr>\n",
       "    <tr>\n",
       "      <th>2</th>\n",
       "      <td>581216</td>\n",
       "      <td>4441641433661926</td>\n",
       "      <td>刚刚</td>\n",
       "      <td>iPhone客户端</td>\n",
       "      <td>7010820743</td>\n",
       "      <td>心悦坤哥kB9654</td>\n",
       "      <td>https://tvax1.sinaimg.cn/crop.2.0.96.96.180/00...</td>\n",
       "      <td>False</td>\n",
       "      <td>1</td>\n",
       "      <td>0</td>\n",
       "      <td>https://m.weibo.cn/u/7010820743?uid=7010820743</td>\n",
       "      <td>NaN</td>\n",
       "    </tr>\n",
       "    <tr>\n",
       "      <th>3</th>\n",
       "      <td>581216</td>\n",
       "      <td>4441641433661854</td>\n",
       "      <td>刚刚</td>\n",
       "      <td>荣耀畅玩8C</td>\n",
       "      <td>6335105928</td>\n",
       "      <td>超喜葵葵呐</td>\n",
       "      <td>https://tvax2.sinaimg.cn/crop.0.0.664.664.180/...</td>\n",
       "      <td>False</td>\n",
       "      <td>16</td>\n",
       "      <td>0</td>\n",
       "      <td>https://m.weibo.cn/u/6335105928?uid=6335105928</td>\n",
       "      <td>NaN</td>\n",
       "    </tr>\n",
       "    <tr>\n",
       "      <th>4</th>\n",
       "      <td>581216</td>\n",
       "      <td>4441641257768061</td>\n",
       "      <td>1分钟前</td>\n",
       "      <td>iPhone客户端</td>\n",
       "      <td>6520751865</td>\n",
       "      <td>静守己心-雪vivi</td>\n",
       "      <td>https://tvax3.sinaimg.cn/crop.0.0.1080.1080.18...</td>\n",
       "      <td>False</td>\n",
       "      <td>39</td>\n",
       "      <td>0</td>\n",
       "      <td>https://m.weibo.cn/u/6520751865?uid=6520751865</td>\n",
       "      <td>NaN</td>\n",
       "    </tr>\n",
       "  </tbody>\n",
       "</table>\n",
       "</div>"
      ],
      "text/plain": [
       "   total_number       attitude_id created_at         source          id  \\\n",
       "0        581216  4441641614152711         刚刚       OPPO智能手机  6618438638   \n",
       "1        581216  4441641580014663         刚刚  三星android智能手机  5681330112   \n",
       "2        581216  4441641433661926         刚刚      iPhone客户端  7010820743   \n",
       "3        581216  4441641433661854         刚刚         荣耀畅玩8C  6335105928   \n",
       "4        581216  4441641257768061       1分钟前      iPhone客户端  6520751865   \n",
       "\n",
       "  screen_name                                  profile_image_url  verified  \\\n",
       "0   Desting婷儿  https://tvax1.sinaimg.cn/crop.0.0.664.664.180/...     False   \n",
       "1       宛如我心田  https://tvax4.sinaimg.cn/crop.0.0.1544.1544.18...     False   \n",
       "2  心悦坤哥kB9654  https://tvax1.sinaimg.cn/crop.2.0.96.96.180/00...     False   \n",
       "3       超喜葵葵呐  https://tvax2.sinaimg.cn/crop.0.0.664.664.180/...     False   \n",
       "4  静守己心-雪vivi  https://tvax3.sinaimg.cn/crop.0.0.1080.1080.18...     False   \n",
       "\n",
       "   followers_count  mbtype                                     profile_url  \\\n",
       "0                1       0  https://m.weibo.cn/u/6618438638?uid=6618438638   \n",
       "1              167       0  https://m.weibo.cn/u/5681330112?uid=5681330112   \n",
       "2                1       0  https://m.weibo.cn/u/7010820743?uid=7010820743   \n",
       "3               16       0  https://m.weibo.cn/u/6335105928?uid=6335105928   \n",
       "4               39       0  https://m.weibo.cn/u/6520751865?uid=6520751865   \n",
       "\n",
       "   weibo_id  \n",
       "0       NaN  \n",
       "1       NaN  \n",
       "2       NaN  \n",
       "3       NaN  \n",
       "4       NaN  "
      ]
     },
     "execution_count": 10,
     "metadata": {},
     "output_type": "execute_result"
    }
   ],
   "source": [
    "c_attitude.head()"
   ]
  },
  {
   "cell_type": "code",
   "execution_count": 11,
   "metadata": {},
   "outputs": [
    {
     "data": {
      "text/plain": [
       "False    2319\n",
       "True      156\n",
       "Name: verified, dtype: int64"
      ]
     },
     "execution_count": 11,
     "metadata": {},
     "output_type": "execute_result"
    }
   ],
   "source": [
    "c_attitude['verified'].value_counts()"
   ]
  },
  {
   "cell_type": "code",
   "execution_count": 12,
   "metadata": {},
   "outputs": [
    {
     "data": {
      "image/png": "[encoded data removed]",
      "text/plain": [
       "<matplotlib.figure.Figure at 0x296e60e6898>"
      ]
     },
     "metadata": {},
     "output_type": "display_data"
    }
   ],
   "source": [
    "plt.pie(c_attitude['verified'].value_counts())\n",
    "plt.show()"
   ]
  },
  {
   "cell_type": "code",
   "execution_count": 13,
   "metadata": {},
   "outputs": [
    {
     "data": {
      "image/png": "[encoded data removed]",
      "text/plain": [
       "<matplotlib.figure.Figure at 0x296e6267fd0>"
      ]
     },
     "metadata": {},
     "output_type": "display_data"
    }
   ],
   "source": [
    "plt.pie(h_attitude['verified'].value_counts())\n",
    "plt.show()"
   ]
  },
  {
   "cell_type": "code",
   "execution_count": 14,
   "metadata": {},
   "outputs": [],
   "source": [
    "#点赞者的认证比例区别不大"
   ]
  },
  {
   "cell_type": "code",
   "execution_count": 15,
   "metadata": {},
   "outputs": [
    {
     "data": {
      "text/html": [
       "<div>\n",
       "<style scoped>\n",
       "    .dataframe tbody tr th:only-of-type {\n",
       "        vertical-align: middle;\n",
       "    }\n",
       "\n",
       "    .dataframe tbody tr th {\n",
       "        vertical-align: top;\n",
       "    }\n",
       "\n",
       "    .dataframe thead th {\n",
       "        text-align: right;\n",
       "    }\n",
       "</style>\n",
       "<table border=\"1\" class=\"dataframe\">\n",
       "  <thead>\n",
       "    <tr style=\"text-align: right;\">\n",
       "      <th></th>\n",
       "      <th>total_number</th>\n",
       "      <th>attitude_id</th>\n",
       "      <th>created_at</th>\n",
       "      <th>source</th>\n",
       "      <th>id</th>\n",
       "      <th>screen_name</th>\n",
       "      <th>profile_image_url</th>\n",
       "      <th>verified</th>\n",
       "      <th>followers_count</th>\n",
       "      <th>mbtype</th>\n",
       "      <th>profile_url</th>\n",
       "      <th>weibo_id</th>\n",
       "    </tr>\n",
       "  </thead>\n",
       "  <tbody>\n",
       "  </tbody>\n",
       "</table>\n",
       "</div>"
      ],
      "text/plain": [
       "Empty DataFrame\n",
       "Columns: [total_number, attitude_id, created_at, source, id, screen_name, profile_image_url, verified, followers_count, mbtype, profile_url, weibo_id]\n",
       "Index: []"
      ]
     },
     "execution_count": 15,
     "metadata": {},
     "output_type": "execute_result"
    }
   ],
   "source": [
    "c_attitude[c_attitude['profile_image_url'].isna()]"
   ]
  },
  {
   "cell_type": "code",
   "execution_count": 16,
   "metadata": {},
   "outputs": [
    {
     "data": {
      "text/html": [
       "<div>\n",
       "<style scoped>\n",
       "    .dataframe tbody tr th:only-of-type {\n",
       "        vertical-align: middle;\n",
       "    }\n",
       "\n",
       "    .dataframe tbody tr th {\n",
       "        vertical-align: top;\n",
       "    }\n",
       "\n",
       "    .dataframe thead th {\n",
       "        text-align: right;\n",
       "    }\n",
       "</style>\n",
       "<table border=\"1\" class=\"dataframe\">\n",
       "  <thead>\n",
       "    <tr style=\"text-align: right;\">\n",
       "      <th></th>\n",
       "      <th>total_number</th>\n",
       "      <th>attitude_id</th>\n",
       "      <th>created_at</th>\n",
       "      <th>source</th>\n",
       "      <th>id</th>\n",
       "      <th>screen_name</th>\n",
       "      <th>profile_image_url</th>\n",
       "      <th>verified</th>\n",
       "      <th>followers_count</th>\n",
       "      <th>mbtype</th>\n",
       "      <th>profile_url</th>\n",
       "      <th>weibo_id</th>\n",
       "    </tr>\n",
       "  </thead>\n",
       "  <tbody>\n",
       "  </tbody>\n",
       "</table>\n",
       "</div>"
      ],
      "text/plain": [
       "Empty DataFrame\n",
       "Columns: [total_number, attitude_id, created_at, source, id, screen_name, profile_image_url, verified, followers_count, mbtype, profile_url, weibo_id]\n",
       "Index: []"
      ]
     },
     "execution_count": 16,
     "metadata": {},
     "output_type": "execute_result"
    }
   ],
   "source": [
    "h_attitude[h_attitude['profile_image_url'].isna()]"
   ]
  },
  {
   "cell_type": "code",
   "execution_count": 17,
   "metadata": {},
   "outputs": [],
   "source": [
    "#全部有背景图片"
   ]
  },
  {
   "cell_type": "code",
   "execution_count": 18,
   "metadata": {},
   "outputs": [
    {
     "data": {
      "text/plain": [
       "0     1430\n",
       "2      692\n",
       "11     188\n",
       "12     159\n",
       "13       6\n",
       "Name: mbtype, dtype: int64"
      ]
     },
     "execution_count": 18,
     "metadata": {},
     "output_type": "execute_result"
    }
   ],
   "source": [
    "c_attitude['mbtype'].value_counts()"
   ]
  },
  {
   "cell_type": "code",
   "execution_count": 19,
   "metadata": {},
   "outputs": [
    {
     "data": {
      "text/plain": [
       "0     1609\n",
       "2      662\n",
       "11     124\n",
       "12     100\n",
       "13       3\n",
       "Name: mbtype, dtype: int64"
      ]
     },
     "execution_count": 19,
     "metadata": {},
     "output_type": "execute_result"
    }
   ],
   "source": [
    "h_attitude['mbtype'].value_counts()"
   ]
  },
  {
   "cell_type": "code",
   "execution_count": 20,
   "metadata": {},
   "outputs": [],
   "source": [
    "#mbtype比例差不多"
   ]
  },
  {
   "cell_type": "code",
   "execution_count": 21,
   "metadata": {},
   "outputs": [
    {
     "data": {
      "text/plain": [
       "1011"
      ]
     },
     "execution_count": 21,
     "metadata": {},
     "output_type": "execute_result"
    }
   ],
   "source": [
    "h_attitude['followers_count'][h_attitude['followers_count']<10].value_counts().sum()"
   ]
  },
  {
   "cell_type": "code",
   "execution_count": 22,
   "metadata": {},
   "outputs": [
    {
     "data": {
      "text/plain": [
       "1447"
      ]
     },
     "execution_count": 22,
     "metadata": {},
     "output_type": "execute_result"
    }
   ],
   "source": [
    "h_attitude['followers_count'][h_attitude['followers_count']>10].value_counts().sum()"
   ]
  },
  {
   "cell_type": "code",
   "execution_count": 23,
   "metadata": {},
   "outputs": [
    {
     "data": {
      "text/plain": [
       "763"
      ]
     },
     "execution_count": 23,
     "metadata": {},
     "output_type": "execute_result"
    }
   ],
   "source": [
    "c_attitude['followers_count'][c_attitude['followers_count']<10].value_counts().sum()"
   ]
  },
  {
   "cell_type": "code",
   "execution_count": 24,
   "metadata": {},
   "outputs": [
    {
     "data": {
      "text/plain": [
       "1679"
      ]
     },
     "execution_count": 24,
     "metadata": {},
     "output_type": "execute_result"
    }
   ],
   "source": [
    "c_attitude['followers_count'][c_attitude['followers_count']>10].value_counts().sum()"
   ]
  },
  {
   "cell_type": "code",
   "execution_count": 25,
   "metadata": {},
   "outputs": [
    {
     "data": {
      "image/png": "[encoded data removed]",
      "text/plain": [
       "<matplotlib.figure.Figure at 0x296e5fcc2e8>"
      ]
     },
     "metadata": {},
     "output_type": "display_data"
    }
   ],
   "source": [
    "c_attitude['followers_count'][c_attitude['followers_count']<20].value_counts().sort_index().plot(kind='bar')\n",
    "plt.show()"
   ]
  },
  {
   "cell_type": "code",
   "execution_count": 26,
   "metadata": {},
   "outputs": [
    {
     "data": {
      "image/png": "[encoded data removed]",
      "text/plain": [
       "<matplotlib.figure.Figure at 0x296e647ddd8>"
      ]
     },
     "metadata": {},
     "output_type": "display_data"
    }
   ],
   "source": [
    "h_attitude['followers_count'][h_attitude['followers_count']<20].value_counts().sort_index().plot(kind='bar')\n",
    "plt.show()"
   ]
  },
  {
   "cell_type": "code",
   "execution_count": 27,
   "metadata": {},
   "outputs": [],
   "source": [
    "#点赞者的质量有差距，但是并不大"
   ]
  },
  {
   "cell_type": "markdown",
   "metadata": {},
   "source": [
    "# 转发部分分析"
   ]
  },
  {
   "cell_type": "code",
   "execution_count": 28,
   "metadata": {},
   "outputs": [
    {
     "data": {
      "text/html": [
       "<div>\n",
       "<style scoped>\n",
       "    .dataframe tbody tr th:only-of-type {\n",
       "        vertical-align: middle;\n",
       "    }\n",
       "\n",
       "    .dataframe tbody tr th {\n",
       "        vertical-align: top;\n",
       "    }\n",
       "\n",
       "    .dataframe thead th {\n",
       "        text-align: right;\n",
       "    }\n",
       "</style>\n",
       "<table border=\"1\" class=\"dataframe\">\n",
       "  <thead>\n",
       "    <tr style=\"text-align: right;\">\n",
       "      <th></th>\n",
       "      <th>screen_name</th>\n",
       "      <th>gender</th>\n",
       "      <th>followers_count</th>\n",
       "      <th>follow_count</th>\n",
       "      <th>created_at</th>\n",
       "      <th>source</th>\n",
       "      <th>statuses_count</th>\n",
       "      <th>id</th>\n",
       "      <th>urank</th>\n",
       "      <th>mbrank</th>\n",
       "      <th>...</th>\n",
       "      <th>raw_text</th>\n",
       "      <th>repost_id</th>\n",
       "      <th>pending_approval_count</th>\n",
       "      <th>isLongText</th>\n",
       "      <th>cover_image_phone</th>\n",
       "      <th>avatar_hd</th>\n",
       "      <th>mbtype</th>\n",
       "      <th>verified</th>\n",
       "      <th>profile_url</th>\n",
       "      <th>weibo_id</th>\n",
       "    </tr>\n",
       "  </thead>\n",
       "  <tbody>\n",
       "    <tr>\n",
       "      <th>0</th>\n",
       "      <td>用户6905198034</td>\n",
       "      <td>f</td>\n",
       "      <td>1</td>\n",
       "      <td>0</td>\n",
       "      <td>刚刚</td>\n",
       "      <td>Android平板客户端</td>\n",
       "      <td>282</td>\n",
       "      <td>6905198034</td>\n",
       "      <td>4</td>\n",
       "      <td>0</td>\n",
       "      <td>...</td>\n",
       "      <td>遇见你，是我最美丽的意外</td>\n",
       "      <td>4441638446920643</td>\n",
       "      <td>0</td>\n",
       "      <td>False</td>\n",
       "      <td>https://tva1.sinaimg.cn/crop.0.0.640.640.640/5...</td>\n",
       "      <td>https://ss1.sinaimg.cn/orj480/default_avatar_f...</td>\n",
       "      <td>0</td>\n",
       "      <td>False</td>\n",
       "      <td>https://m.weibo.cn/u/6905198034?uid=6905198034</td>\n",
       "      <td>4441079325631960</td>\n",
       "    </tr>\n",
       "    <tr>\n",
       "      <th>1</th>\n",
       "      <td>Lq果同7</td>\n",
       "      <td>f</td>\n",
       "      <td>1</td>\n",
       "      <td>59</td>\n",
       "      <td>刚刚</td>\n",
       "      <td>Android平板客户端</td>\n",
       "      <td>33</td>\n",
       "      <td>7307496752</td>\n",
       "      <td>0</td>\n",
       "      <td>0</td>\n",
       "      <td>...</td>\n",
       "      <td>You cannot burn the candle at both ends.</td>\n",
       "      <td>4441638443407953</td>\n",
       "      <td>0</td>\n",
       "      <td>False</td>\n",
       "      <td>https://tva1.sinaimg.cn/crop.0.0.640.640.640/5...</td>\n",
       "      <td>https://wx4.sinaimg.cn/orj480/007YxvIQly8g7400...</td>\n",
       "      <td>0</td>\n",
       "      <td>False</td>\n",
       "      <td>https://m.weibo.cn/u/7307496752?uid=7307496752</td>\n",
       "      <td>4441079325631960</td>\n",
       "    </tr>\n",
       "    <tr>\n",
       "      <th>2</th>\n",
       "      <td>Ae要整2_m</td>\n",
       "      <td>f</td>\n",
       "      <td>13</td>\n",
       "      <td>156</td>\n",
       "      <td>刚刚</td>\n",
       "      <td>Android平板客户端</td>\n",
       "      <td>120</td>\n",
       "      <td>7278179674</td>\n",
       "      <td>4</td>\n",
       "      <td>0</td>\n",
       "      <td>...</td>\n",
       "      <td>He who lives in a glass house should not throw...</td>\n",
       "      <td>4441638308921354</td>\n",
       "      <td>0</td>\n",
       "      <td>False</td>\n",
       "      <td>https://tva1.sinaimg.cn/crop.0.0.640.640.640/5...</td>\n",
       "      <td>https://wx2.sinaimg.cn/orj480/007Wyv0Kly8g5uyi...</td>\n",
       "      <td>0</td>\n",
       "      <td>False</td>\n",
       "      <td>https://m.weibo.cn/u/7278179674?uid=7278179674</td>\n",
       "      <td>4441079325631960</td>\n",
       "    </tr>\n",
       "    <tr>\n",
       "      <th>3</th>\n",
       "      <td>反弹73</td>\n",
       "      <td>m</td>\n",
       "      <td>109</td>\n",
       "      <td>256</td>\n",
       "      <td>刚刚</td>\n",
       "      <td>vivo X23全息幻彩</td>\n",
       "      <td>5273</td>\n",
       "      <td>5684189690</td>\n",
       "      <td>14</td>\n",
       "      <td>5</td>\n",
       "      <td>...</td>\n",
       "      <td>好想你好想你[可爱][泪]</td>\n",
       "      <td>4441638270689981</td>\n",
       "      <td>0</td>\n",
       "      <td>False</td>\n",
       "      <td>https://tva1.sinaimg.cn/crop.0.0.640.640.640/9...</td>\n",
       "      <td>https://wx2.sinaimg.cn/orj480/006cGhoSly8g8igd...</td>\n",
       "      <td>11</td>\n",
       "      <td>False</td>\n",
       "      <td>https://m.weibo.cn/u/5684189690?uid=5684189690</td>\n",
       "      <td>4441079325631960</td>\n",
       "    </tr>\n",
       "    <tr>\n",
       "      <th>4</th>\n",
       "      <td>我就是爱困</td>\n",
       "      <td>f</td>\n",
       "      <td>115</td>\n",
       "      <td>140</td>\n",
       "      <td>1分钟前</td>\n",
       "      <td>前后2000万 OPPO R11s</td>\n",
       "      <td>5433</td>\n",
       "      <td>5664620890</td>\n",
       "      <td>9</td>\n",
       "      <td>1</td>\n",
       "      <td>...</td>\n",
       "      <td>啊啊啊啊啊啊宝贝 想你[泪]我忙的都没时间刷微博🏄了 [泪][泪]@蔡徐坤</td>\n",
       "      <td>4441638191947118</td>\n",
       "      <td>0</td>\n",
       "      <td>False</td>\n",
       "      <td>https://tva1.sinaimg.cn/crop.0.0.640.640.640/9...</td>\n",
       "      <td>https://wx1.sinaimg.cn/orj480/006bmaF4ly8g8u9i...</td>\n",
       "      <td>2</td>\n",
       "      <td>True</td>\n",
       "      <td>https://m.weibo.cn/u/5664620890?uid=5664620890</td>\n",
       "      <td>4441079325631960</td>\n",
       "    </tr>\n",
       "  </tbody>\n",
       "</table>\n",
       "<p>5 rows × 25 columns</p>\n",
       "</div>"
      ],
      "text/plain": [
       "    screen_name gender  followers_count  follow_count created_at  \\\n",
       "0  用户6905198034      f                1             0         刚刚   \n",
       "1         Lq果同7      f                1            59         刚刚   \n",
       "2       Ae要整2_m      f               13           156         刚刚   \n",
       "3          反弹73      m              109           256         刚刚   \n",
       "4         我就是爱困      f              115           140       1分钟前   \n",
       "\n",
       "              source  statuses_count          id  urank  mbrank  \\\n",
       "0       Android平板客户端             282  6905198034      4       0   \n",
       "1       Android平板客户端              33  7307496752      0       0   \n",
       "2       Android平板客户端             120  7278179674      4       0   \n",
       "3       vivo X23全息幻彩            5273  5684189690     14       5   \n",
       "4  前后2000万 OPPO R11s            5433  5664620890      9       1   \n",
       "\n",
       "         ...                                                  raw_text  \\\n",
       "0        ...                                              遇见你，是我最美丽的意外   \n",
       "1        ...                  You cannot burn the candle at both ends.   \n",
       "2        ...         He who lives in a glass house should not throw...   \n",
       "3        ...                                             好想你好想你[可爱][泪]   \n",
       "4        ...                     啊啊啊啊啊啊宝贝 想你[泪]我忙的都没时间刷微博🏄了 [泪][泪]@蔡徐坤   \n",
       "\n",
       "          repost_id  pending_approval_count  isLongText  \\\n",
       "0  4441638446920643                       0       False   \n",
       "1  4441638443407953                       0       False   \n",
       "2  4441638308921354                       0       False   \n",
       "3  4441638270689981                       0       False   \n",
       "4  4441638191947118                       0       False   \n",
       "\n",
       "                                   cover_image_phone  \\\n",
       "0  https://tva1.sinaimg.cn/crop.0.0.640.640.640/5...   \n",
       "1  https://tva1.sinaimg.cn/crop.0.0.640.640.640/5...   \n",
       "2  https://tva1.sinaimg.cn/crop.0.0.640.640.640/5...   \n",
       "3  https://tva1.sinaimg.cn/crop.0.0.640.640.640/9...   \n",
       "4  https://tva1.sinaimg.cn/crop.0.0.640.640.640/9...   \n",
       "\n",
       "                                           avatar_hd  mbtype  verified  \\\n",
       "0  https://ss1.sinaimg.cn/orj480/default_avatar_f...       0     False   \n",
       "1  https://wx4.sinaimg.cn/orj480/007YxvIQly8g7400...       0     False   \n",
       "2  https://wx2.sinaimg.cn/orj480/007Wyv0Kly8g5uyi...       0     False   \n",
       "3  https://wx2.sinaimg.cn/orj480/006cGhoSly8g8igd...      11     False   \n",
       "4  https://wx1.sinaimg.cn/orj480/006bmaF4ly8g8u9i...       2      True   \n",
       "\n",
       "                                      profile_url          weibo_id  \n",
       "0  https://m.weibo.cn/u/6905198034?uid=6905198034  4441079325631960  \n",
       "1  https://m.weibo.cn/u/7307496752?uid=7307496752  4441079325631960  \n",
       "2  https://m.weibo.cn/u/7278179674?uid=7278179674  4441079325631960  \n",
       "3  https://m.weibo.cn/u/5684189690?uid=5684189690  4441079325631960  \n",
       "4  https://m.weibo.cn/u/5664620890?uid=5664620890  4441079325631960  \n",
       "\n",
       "[5 rows x 25 columns]"
      ]
     },
     "execution_count": 28,
     "metadata": {},
     "output_type": "execute_result"
    }
   ],
   "source": [
    "c_repost.head()"
   ]
  },
  {
   "cell_type": "code",
   "execution_count": 29,
   "metadata": {},
   "outputs": [
    {
     "name": "stdout",
     "output_type": "stream",
     "text": [
      "韩寒 32585\n",
      "蔡徐坤 22630\n"
     ]
    }
   ],
   "source": [
    "# 转发的总长度\n",
    "print(\"韩寒\",len(h_repost))\n",
    "print(\"蔡徐坤\",len(c_repost))"
   ]
  },
  {
   "cell_type": "code",
   "execution_count": 30,
   "metadata": {},
   "outputs": [
    {
     "data": {
      "text/plain": [
       "3saner              1\n",
       "峰随璇转                1\n",
       "小毛驴滴答嘀嗒             1\n",
       "仙人掌C                1\n",
       "啊哈哈哈哈哈啊哈哈哈          1\n",
       "如风ve                1\n",
       "高鼻梁圈儿-trista        1\n",
       "管胖儿                 1\n",
       "豆子航                 1\n",
       "哄嘛咪嘛呢哄              1\n",
       "小灯笼-啊灯              1\n",
       "趙花情商不在线             1\n",
       "彭雪Yuki酱             1\n",
       "看时间慢慢爬过你我的皮肤        1\n",
       "princesssq1011      1\n",
       "范塔西乔伊斯              1\n",
       "睡不着的小兰兰             1\n",
       "焦豆豆又叫少侠终结者焦十三娘      1\n",
       "等那天_forever         1\n",
       "blackwidow_man      1\n",
       "MinneTang           1\n",
       "逝水年华exister         1\n",
       "AskForAnswer        1\n",
       "飞田大树                1\n",
       "Senses-NT           1\n",
       "onlyyangming123     1\n",
       "JasmineRainnn       1\n",
       "百香果泡芙双响炮            1\n",
       "你要成为一束光             1\n",
       "天边小卖部               1\n",
       "                   ..\n",
       "Grace海若因            4\n",
       "称覆舟01               4\n",
       "Sr就是锶锶锶             4\n",
       "稀里糊涂的咕噜喵            4\n",
       "方格小希                4\n",
       "无知奔忙化作光亮            4\n",
       "鄢陳kilig             4\n",
       "即兴的骨头               4\n",
       "我还是改叫高小达吧           4\n",
       "安安奶莉童               5\n",
       "再不疯狂我们就老了大姑娘        5\n",
       "改革春风吹你旗             5\n",
       "梵高先生ZORRO           5\n",
       "嗨呀是陳信宏啊             5\n",
       "可樂葵x                5\n",
       "峰回路转Halo            5\n",
       "請不要視奸我主頁            5\n",
       "當太陽接近地平缐            5\n",
       "Sg1cy               5\n",
       "刘世东1999             5\n",
       "南湘宛光                6\n",
       "丶菟小白丿               6\n",
       "晨风煦语                6\n",
       "_JK洛                6\n",
       "-呀缩夕                6\n",
       "北極熊先生w              7\n",
       "陳宏宏世界第一可愛           8\n",
       "cambrictea8         8\n",
       "淑怡SY_               9\n",
       "彭灵的仓颉              25\n",
       "Name: screen_name, Length: 24854, dtype: int64"
      ]
     },
     "execution_count": 30,
     "metadata": {},
     "output_type": "execute_result"
    }
   ],
   "source": [
    "pd.value_counts(h_repost[\"screen_name\"]).sort_values()"
   ]
  },
  {
   "cell_type": "code",
   "execution_count": 31,
   "metadata": {},
   "outputs": [
    {
     "data": {
      "text/plain": [
       "Fq知多1_mR              1\n",
       "给你慢条斯理的吻              1\n",
       "沐坤ikun                1\n",
       "一口酸奶呀                 1\n",
       "苏慕辰预祝蔡徐坤0802生日快乐      1\n",
       "闭月c                   1\n",
       "啊阿啊小蔡                 1\n",
       "爱坤哥喏                  1\n",
       "Ferry_August          1\n",
       "Honna                 1\n",
       "ikun16472             1\n",
       "小熊家的凉平君               1\n",
       "失了仙味剖                 1\n",
       "困困的小宝贝                1\n",
       "辣辣欢欢                  1\n",
       "小奶坤9In685             1\n",
       "肿眼泡儿妹妹                1\n",
       "江湖见23913              1\n",
       "蔡徐坤的忠实女朋友             1\n",
       "思忖70904               1\n",
       "可盐可甜小葵花               1\n",
       "原创歌手8Jt742            1\n",
       "小菜包-ikun              1\n",
       "摸摸菜菜的音乐梦想             1\n",
       "安暖如夏_cindy            1\n",
       "家得福发                  1\n",
       "时光凉_透初时模样的秋天          1\n",
       "风云浪紀1                 1\n",
       "骆茅闻鱼蒲                 1\n",
       "如果遇见你idol             1\n",
       "                   ... \n",
       "毁心人_purple           68\n",
       "谷立录菁                 70\n",
       "倒影的世界是怎样的            71\n",
       "responsible49436     71\n",
       "一颗太阳花吖               72\n",
       "你好明天_YangXu__        72\n",
       "--迷路的小女孩--           73\n",
       "洛洛_yipiayun          74\n",
       "我是一个-超级无敌可爱的小仙女      75\n",
       "卑微嗳_Enzi             76\n",
       "储蓄卡的女工               85\n",
       "蔡徐坤的芒果冰冰             86\n",
       "是kun呀                91\n",
       "你是春风得意               91\n",
       "为你骄傲呀                94\n",
       "爱蔡徐坤先生呀              99\n",
       "羁_林                 117\n",
       "你是我的小芹菜呀            120\n",
       "斯蒂芬妮-玉玺             123\n",
       "ikun喵呜0802          126\n",
       "蔡徐坤的大洁洁IKUN         140\n",
       "听坤-                 186\n",
       "大洁洁洁洁洁JIE           195\n",
       "KUN执念               197\n",
       "原来是蔡徐坤啊2333         199\n",
       "花未眠_cherry          238\n",
       "KUN心许               257\n",
       "可乐你要加冰嘛             261\n",
       "KUN坤的大洁洁            270\n",
       "今天也是努力赚钱的h          689\n",
       "Name: screen_name, Length: 7423, dtype: int64"
      ]
     },
     "execution_count": 31,
     "metadata": {},
     "output_type": "execute_result"
    }
   ],
   "source": [
    "pd.value_counts(c_repost[\"screen_name\"]).sort_values()"
   ]
  },
  {
   "cell_type": "code",
   "execution_count": 32,
   "metadata": {},
   "outputs": [],
   "source": [
    "#多次转发的比例明显菜高"
   ]
  },
  {
   "cell_type": "code",
   "execution_count": 33,
   "metadata": {},
   "outputs": [],
   "source": [
    "c_ser = c_repost.groupby(c_repost[\"screen_name\"],as_index=False).size().sort_values()\n",
    "h_ser = h_repost.groupby(h_repost[\"screen_name\"],as_index=False).size().sort_values()"
   ]
  },
  {
   "cell_type": "code",
   "execution_count": 34,
   "metadata": {},
   "outputs": [
    {
     "name": "stdout",
     "output_type": "stream",
     "text": [
      "韩寒的转发量和转发人数： 24854 32585\n",
      "蔡徐坤的转发量和转发人数： 7423 22630\n",
      "韩寒的人均转发量： 1.3110565703709665\n",
      "蔡徐坤的人均转发量： 3.048632628317392\n"
     ]
    }
   ],
   "source": [
    "print(\"韩寒的转发量和转发人数：\",len(h_ser),len(h_repost))\n",
    "print(\"蔡徐坤的转发量和转发人数：\",len(c_ser),len(c_repost))\n",
    "print(\"韩寒的人均转发量：\",len(h_repost)/len(h_ser))\n",
    "print(\"蔡徐坤的人均转发量：\",len(c_repost)/len(c_ser))\n",
    "# 转发的用户数量"
   ]
  },
  {
   "cell_type": "code",
   "execution_count": 35,
   "metadata": {},
   "outputs": [
    {
     "data": {
      "image/png": "[encoded data removed]",
      "text/plain": [
       "<matplotlib.figure.Figure at 0x296e5fc3cc0>"
      ]
     },
     "metadata": {},
     "output_type": "display_data"
    }
   ],
   "source": [
    "# 人均转发量差距很大\n",
    "fig, ax = plt.subplots()\n",
    "x = [\"han\",\"cai\"]\n",
    "y = [len(h_repost)/len(h_ser),len(c_repost)/len(c_ser)]\n",
    "ax.set_xlabel(u'博主',fontproperties=font)\n",
    "ax.set_ylabel(u'粉丝的人均转发量',fontproperties=font)\n",
    "ax.bar(x,y)\n",
    "plt.show()"
   ]
  },
  {
   "cell_type": "code",
   "execution_count": 36,
   "metadata": {},
   "outputs": [],
   "source": [
    "c_ser = pd.DataFrame({'screen_name':c_ser.index,'repost_times':c_ser.values})\n",
    "h_ser = pd.DataFrame({'screen_name':h_ser.index,'repost_times':h_ser.values})"
   ]
  },
  {
   "cell_type": "code",
   "execution_count": 37,
   "metadata": {},
   "outputs": [],
   "source": [
    "# 将发微博的次数作为新的特征\n",
    "h_repost = h_repost.set_index('screen_name',drop=False).join(h_ser.set_index('screen_name'))\n",
    "c_repost = c_repost.set_index('screen_name',drop=False).join(c_ser.set_index('screen_name'))"
   ]
  },
  {
   "cell_type": "code",
   "execution_count": 38,
   "metadata": {},
   "outputs": [],
   "source": [
    "# 序号重编\n",
    "h_repost = h_repost.reset_index(drop=True)\n",
    "c_repost = c_repost.reset_index(drop=True)"
   ]
  },
  {
   "cell_type": "code",
   "execution_count": 39,
   "metadata": {},
   "outputs": [],
   "source": [
    "# 根据screen_name去重，保留第一项\n",
    "h_r_unique = h_repost.drop_duplicates(subset=['screen_name'],keep='first',inplace=False)\n",
    "c_r_unique = c_repost.drop_duplicates(subset=['screen_name'],keep='first',inplace=False)"
   ]
  },
  {
   "cell_type": "markdown",
   "metadata": {},
   "source": [
    "# 性别"
   ]
  },
  {
   "cell_type": "code",
   "execution_count": 130,
   "metadata": {},
   "outputs": [],
   "source": [
    "h_gender_f = h_r_unique[h_r_unique['gender']==\"f\"].count()['gender']\n",
    "h_gender_m = h_r_unique[h_r_unique['gender']==\"m\"].count()['gender']"
   ]
  },
  {
   "cell_type": "code",
   "execution_count": 131,
   "metadata": {},
   "outputs": [
    {
     "name": "stdout",
     "output_type": "stream",
     "text": [
      "韩寒转发者的男性数量为： 9475 女性数量为： 15379 男女比例为： 0.616099876454906\n"
     ]
    }
   ],
   "source": [
    "print(\"韩寒转发者的男性数量为：\",h_gender_m,\"女性数量为：\",h_gender_f,\"男女比例为：\",float(h_gender_m/h_gender_f))"
   ]
  },
  {
   "cell_type": "code",
   "execution_count": 133,
   "metadata": {},
   "outputs": [
    {
     "name": "stdout",
     "output_type": "stream",
     "text": [
      "蔡徐坤转发者的男性数量为： 1648 女性数量为： 5775 男女比例为： 0.2853679653679654\n"
     ]
    }
   ],
   "source": [
    "c_gender_f = c_r_unique[c_r_unique['gender']==\"f\"].count()['gender']\n",
    "c_gender_m = c_r_unique[c_r_unique['gender']==\"m\"].count()['gender']\n",
    "print(\"蔡徐坤转发者的男性数量为：\",c_gender_m,\"女性数量为：\",c_gender_f,\"男女比例为：\",float(c_gender_m/c_gender_f))"
   ]
  },
  {
   "cell_type": "code",
   "execution_count": 43,
   "metadata": {},
   "outputs": [
    {
     "name": "stdout",
     "output_type": "stream",
     "text": [
      "男性平均转发数量： 1.3013192612137203\n",
      "女性平均转发数量： 1.317055725339749\n"
     ]
    }
   ],
   "source": [
    "#男女平均转发量\n",
    "print(\"男性平均转发数量：\",np.average(h_r_unique['repost_times'][h_r_unique['gender']=='m']))\n",
    "print(\"女性平均转发数量：\",np.average(h_r_unique['repost_times'][h_r_unique['gender']=='f']))"
   ]
  },
  {
   "cell_type": "code",
   "execution_count": 44,
   "metadata": {},
   "outputs": [
    {
     "name": "stdout",
     "output_type": "stream",
     "text": [
      "男性平均转发数量： 3.179611650485437\n",
      "女性平均转发数量： 3.0112554112554113\n"
     ]
    }
   ],
   "source": [
    "#男女平均转发量\n",
    "print(\"男性平均转发数量：\",np.average(c_r_unique['repost_times'][c_r_unique['gender']=='m']))\n",
    "print(\"女性平均转发数量：\",np.average(c_r_unique['repost_times'][c_r_unique['gender']=='f']))"
   ]
  },
  {
   "cell_type": "code",
   "execution_count": 45,
   "metadata": {},
   "outputs": [],
   "source": [
    "#总体上，男女的平均转发量区别不大"
   ]
  },
  {
   "cell_type": "markdown",
   "metadata": {},
   "source": [
    "# 粉丝数和关注数"
   ]
  },
  {
   "cell_type": "code",
   "execution_count": 46,
   "metadata": {},
   "outputs": [
    {
     "name": "stdout",
     "output_type": "stream",
     "text": [
      "韩寒转发者的平均粉丝数为： 5430.408867787881\n",
      "蔡徐坤转发者的平均粉丝数为： 191.06695406170013\n",
      "韩寒转发者的最大粉丝数为： 45841260\n",
      "蔡徐坤转发者的最大粉丝数为： 51690\n",
      "韩寒转发者的粉丝数方差为： 109689033022.48451\n",
      "蔡徐坤转发者的粉丝数方差为： 1310456.4173704935\n",
      "韩寒转发者的粉丝数中值为： 215.0\n",
      "蔡徐坤转发者的粉丝数中值为： 53.0\n"
     ]
    }
   ],
   "source": [
    "print('韩寒转发者的平均粉丝数为：',np.average(h_r_unique['followers_count']))\n",
    "print('蔡徐坤转发者的平均粉丝数为：',np.average(c_r_unique['followers_count']))\n",
    "print('韩寒转发者的最大粉丝数为：',h_r_unique['followers_count'].max())\n",
    "print('蔡徐坤转发者的最大粉丝数为：',c_r_unique['followers_count'].max())\n",
    "print('韩寒转发者的粉丝数方差为：',h_r_unique['followers_count'].var())\n",
    "print('蔡徐坤转发者的粉丝数方差为：',c_r_unique['followers_count'].var())\n",
    "print('韩寒转发者的粉丝数中值为：',h_r_unique['followers_count'].median())\n",
    "print('蔡徐坤转发者的粉丝数中值为：',c_r_unique['followers_count'].median())"
   ]
  },
  {
   "cell_type": "code",
   "execution_count": 47,
   "metadata": {},
   "outputs": [
    {
     "name": "stdout",
     "output_type": "stream",
     "text": [
      "韩寒转发者的平均关注数为： 460.8359620181862\n",
      "蔡徐坤转发者的平均关注数为： 201.3732992051731\n",
      "韩寒转发者的最大关注数为： 12899\n",
      "蔡徐坤转发者的最大关注数为： 5926\n",
      "韩寒转发者的关注数方差为： 265870.30669203424\n",
      "蔡徐坤转发者的关注数方差为： 93640.26119481474\n",
      "韩寒转发者的关注数中值为： 327.0\n",
      "蔡徐坤转发者的关注数中值为： 116.0\n"
     ]
    }
   ],
   "source": [
    "print('韩寒转发者的平均关注数为：',np.average(h_r_unique['follow_count']))\n",
    "print('蔡徐坤转发者的平均关注数为：',np.average(c_r_unique['follow_count']))\n",
    "print('韩寒转发者的最大关注数为：',h_r_unique['follow_count'].max())\n",
    "print('蔡徐坤转发者的最大关注数为：',c_r_unique['follow_count'].max())\n",
    "print('韩寒转发者的关注数方差为：',h_r_unique['follow_count'].var())\n",
    "print('蔡徐坤转发者的关注数方差为：',c_r_unique['follow_count'].var())\n",
    "print('韩寒转发者的关注数中值为：',h_r_unique['follow_count'].median())\n",
    "print('蔡徐坤转发者的关注数中值为：',c_r_unique['follow_count'].median())"
   ]
  },
  {
   "cell_type": "code",
   "execution_count": 48,
   "metadata": {},
   "outputs": [],
   "source": [
    "# 平均粉丝数差距非常大"
   ]
  },
  {
   "cell_type": "code",
   "execution_count": 49,
   "metadata": {},
   "outputs": [
    {
     "name": "stdout",
     "output_type": "stream",
     "text": [
      "韩寒转发者中粉丝数为0的数量为： 6\n",
      "蔡徐坤转发者中粉丝数为0的数量为： 3\n",
      "韩寒转发者中关注数为0的数量为： 26\n",
      "蔡徐坤转发者中关注数为0的数量为： 563\n"
     ]
    }
   ],
   "source": [
    "print('韩寒转发者中粉丝数为0的数量为：',len(h_r_unique[h_r_unique['followers_count']==0]))\n",
    "print('蔡徐坤转发者中粉丝数为0的数量为：',len(c_r_unique[c_r_unique['followers_count']==0]))\n",
    "print('韩寒转发者中关注数为0的数量为：',len(h_r_unique[h_r_unique['follow_count']==0]))\n",
    "print('蔡徐坤转发者中关注数为0的数量为：',len(c_r_unique[c_r_unique['follow_count']==0]))"
   ]
  },
  {
   "cell_type": "code",
   "execution_count": 50,
   "metadata": {},
   "outputs": [],
   "source": [
    "#关注数量差距非常大"
   ]
  },
  {
   "cell_type": "code",
   "execution_count": 51,
   "metadata": {},
   "outputs": [
    {
     "name": "stderr",
     "output_type": "stream",
     "text": [
      "E:\\WinPython-64bit-3.6.3.0Qt5\\python-3.6.3.amd64\\lib\\site-packages\\ipykernel_launcher.py:2: SettingWithCopyWarning: \n",
      "A value is trying to be set on a copy of a slice from a DataFrame\n",
      "\n",
      "See the caveats in the documentation: http://pandas.pydata.org/pandas-docs/stable/indexing.html#indexing-view-versus-copy\n",
      "  \n",
      "E:\\WinPython-64bit-3.6.3.0Qt5\\python-3.6.3.amd64\\lib\\site-packages\\pandas\\core\\generic.py:5984: SettingWithCopyWarning: \n",
      "A value is trying to be set on a copy of a slice from a DataFrame\n",
      "\n",
      "See the caveats in the documentation: http://pandas.pydata.org/pandas-docs/stable/indexing.html#indexing-view-versus-copy\n",
      "  self._update_inplace(new_data)\n",
      "E:\\WinPython-64bit-3.6.3.0Qt5\\python-3.6.3.amd64\\lib\\site-packages\\IPython\\core\\interactiveshell.py:2910: SettingWithCopyWarning: \n",
      "A value is trying to be set on a copy of a slice from a DataFrame\n",
      "\n",
      "See the caveats in the documentation: http://pandas.pydata.org/pandas-docs/stable/indexing.html#indexing-view-versus-copy\n",
      "  exec(code_obj, self.user_global_ns, self.user_ns)\n",
      "E:\\WinPython-64bit-3.6.3.0Qt5\\python-3.6.3.amd64\\lib\\site-packages\\ipykernel_launcher.py:3: SettingWithCopyWarning: \n",
      "A value is trying to be set on a copy of a slice from a DataFrame\n",
      "\n",
      "See the caveats in the documentation: http://pandas.pydata.org/pandas-docs/stable/indexing.html#indexing-view-versus-copy\n",
      "  This is separate from the ipykernel package so we can avoid doing imports until\n",
      "E:\\WinPython-64bit-3.6.3.0Qt5\\python-3.6.3.amd64\\lib\\site-packages\\ipykernel_launcher.py:4: SettingWithCopyWarning: \n",
      "A value is trying to be set on a copy of a slice from a DataFrame\n",
      "\n",
      "See the caveats in the documentation: http://pandas.pydata.org/pandas-docs/stable/indexing.html#indexing-view-versus-copy\n",
      "  after removing the cwd from sys.path.\n",
      "E:\\WinPython-64bit-3.6.3.0Qt5\\python-3.6.3.amd64\\lib\\site-packages\\ipykernel_launcher.py:5: SettingWithCopyWarning: \n",
      "A value is trying to be set on a copy of a slice from a DataFrame\n",
      "\n",
      "See the caveats in the documentation: http://pandas.pydata.org/pandas-docs/stable/indexing.html#indexing-view-versus-copy\n",
      "  \"\"\"\n"
     ]
    }
   ],
   "source": [
    "# 为避免计算有错，将其数量置为1\n",
    "h_r_unique['followers_count'][h_r_unique['followers_count']==0] = 1\n",
    "c_r_unique['followers_count'][c_r_unique['followers_count']==0] = 1\n",
    "h_r_unique['follow_count'][h_r_unique['follow_count']==0] = 1\n",
    "c_r_unique['follow_count'][c_r_unique['follow_count']==0] = 1"
   ]
  },
  {
   "cell_type": "code",
   "execution_count": 52,
   "metadata": {},
   "outputs": [
    {
     "data": {
      "image/png": "[encoded data removed]",
      "text/plain": [
       "<matplotlib.figure.Figure at 0x296e65389b0>"
      ]
     },
     "metadata": {},
     "output_type": "display_data"
    }
   ],
   "source": [
    "fig, ax = plt.subplots()\n",
    "x = h_r_unique['follow_count']\n",
    "ax.set_xlabel(u'关注数',fontproperties=font)\n",
    "y = h_r_unique['followers_count']\n",
    "ax.set_ylabel(u'粉丝数',fontproperties=font)\n",
    "ax.scatter(x,y)\n",
    "plt.show()"
   ]
  },
  {
   "cell_type": "code",
   "execution_count": 53,
   "metadata": {},
   "outputs": [
    {
     "data": {
      "image/png": "[encoded data removed]",
      "text/plain": [
       "<matplotlib.figure.Figure at 0x296e64dff98>"
      ]
     },
     "metadata": {},
     "output_type": "display_data"
    }
   ],
   "source": [
    "fig, ax = plt.subplots()\n",
    "x_log10 = np.log10(h_r_unique['follow_count'])\n",
    "ax.set_xlabel(u'关注数',fontproperties=font)\n",
    "y_log10 = np.log10(h_r_unique['followers_count'])\n",
    "ax.set_ylabel(u'粉丝数',fontproperties=font)\n",
    "ax.scatter(x_log10,y_log10)\n",
    "plt.show()"
   ]
  },
  {
   "cell_type": "code",
   "execution_count": 54,
   "metadata": {},
   "outputs": [
    {
     "data": {
      "image/png": "[encoded data removed]",
      "text/plain": [
       "<matplotlib.figure.Figure at 0x296e103b6a0>"
      ]
     },
     "metadata": {},
     "output_type": "display_data"
    }
   ],
   "source": [
    "fig, ax = plt.subplots()\n",
    "x = c_r_unique['follow_count']\n",
    "ax.set_xlabel(u'关注数',fontproperties=font)\n",
    "y = c_r_unique['followers_count']\n",
    "ax.set_ylabel(u'粉丝数',fontproperties=font)\n",
    "ax.scatter(x,y)\n",
    "plt.show()"
   ]
  },
  {
   "cell_type": "code",
   "execution_count": 55,
   "metadata": {},
   "outputs": [
    {
     "data": {
      "image/png": "[encoded data removed]",
      "text/plain": [
       "<matplotlib.figure.Figure at 0x296e608ee48>"
      ]
     },
     "metadata": {},
     "output_type": "display_data"
    }
   ],
   "source": [
    "fig, ax = plt.subplots()\n",
    "x = np.log10(c_r_unique['follow_count'])\n",
    "ax.set_xlabel(u'关注数',fontproperties=font)\n",
    "y = np.log10(c_r_unique['followers_count'])\n",
    "ax.set_ylabel(u'粉丝数',fontproperties=font)\n",
    "ax.scatter(x,y)\n",
    "plt.show()"
   ]
  },
  {
   "cell_type": "code",
   "execution_count": 56,
   "metadata": {},
   "outputs": [],
   "source": [
    "# 看不出什么区别"
   ]
  },
  {
   "cell_type": "code",
   "execution_count": 57,
   "metadata": {},
   "outputs": [
    {
     "name": "stderr",
     "output_type": "stream",
     "text": [
      "E:\\WinPython-64bit-3.6.3.0Qt5\\python-3.6.3.amd64\\lib\\site-packages\\ipykernel_launcher.py:2: SettingWithCopyWarning: \n",
      "A value is trying to be set on a copy of a slice from a DataFrame.\n",
      "Try using .loc[row_indexer,col_indexer] = value instead\n",
      "\n",
      "See the caveats in the documentation: http://pandas.pydata.org/pandas-docs/stable/indexing.html#indexing-view-versus-copy\n",
      "  \n",
      "E:\\WinPython-64bit-3.6.3.0Qt5\\python-3.6.3.amd64\\lib\\site-packages\\ipykernel_launcher.py:3: SettingWithCopyWarning: \n",
      "A value is trying to be set on a copy of a slice from a DataFrame.\n",
      "Try using .loc[row_indexer,col_indexer] = value instead\n",
      "\n",
      "See the caveats in the documentation: http://pandas.pydata.org/pandas-docs/stable/indexing.html#indexing-view-versus-copy\n",
      "  This is separate from the ipykernel package so we can avoid doing imports until\n"
     ]
    }
   ],
   "source": [
    "# 新建新特征“粉丝关注比”\n",
    "h_r_unique['fan_pro'] = h_r_unique['followers_count']/h_r_unique['follow_count']\n",
    "c_r_unique['fan_pro'] = c_r_unique['followers_count']/c_r_unique['follow_count']"
   ]
  },
  {
   "cell_type": "code",
   "execution_count": 58,
   "metadata": {},
   "outputs": [],
   "source": [
    "h1 = h_r_unique['fan_pro'].sort_values()\n",
    "h1 = h1.reset_index(drop=True)\n",
    "c1 = c_r_unique['fan_pro'].sort_values()\n",
    "c1 = c1.reset_index(drop=True)"
   ]
  },
  {
   "cell_type": "code",
   "execution_count": 59,
   "metadata": {},
   "outputs": [
    {
     "data": {
      "image/png": "[encoded data removed]",
      "text/plain": [
       "<matplotlib.figure.Figure at 0x296e5f04470>"
      ]
     },
     "metadata": {},
     "output_type": "display_data"
    }
   ],
   "source": [
    "fig, ax = plt.subplots()\n",
    "x = h1.index\n",
    "ax.set_xlabel(u'序号',fontproperties=font)\n",
    "y = np.log(h1.values)\n",
    "ax.set_ylabel(u'粉丝关注比',fontproperties=font)\n",
    "ax.scatter(x,y)\n",
    "plt.show()"
   ]
  },
  {
   "cell_type": "code",
   "execution_count": 60,
   "metadata": {},
   "outputs": [
    {
     "data": {
      "image/png": "[encoded data removed]",
      "text/plain": [
       "<matplotlib.figure.Figure at 0x296e60df2b0>"
      ]
     },
     "metadata": {},
     "output_type": "display_data"
    }
   ],
   "source": [
    "fig, ax = plt.subplots()\n",
    "x = c1.index\n",
    "ax.set_xlabel(u'序号',fontproperties=font)\n",
    "y = np.log(c1.values)\n",
    "ax.set_ylabel(u'粉丝关注比',fontproperties=font)\n",
    "ax.scatter(x,y)\n",
    "plt.show()"
   ]
  },
  {
   "cell_type": "code",
   "execution_count": 61,
   "metadata": {},
   "outputs": [
    {
     "data": {
      "image/png": "[encoded data removed]",
      "text/plain": [
       "<matplotlib.figure.Figure at 0x296e6493240>"
      ]
     },
     "metadata": {},
     "output_type": "display_data"
    }
   ],
   "source": [
    "h_r_unique['followers_count'][h_r_unique['followers_count']<50].value_counts().sort_index().plot(kind='bar')\n",
    "plt.show()"
   ]
  },
  {
   "cell_type": "code",
   "execution_count": 62,
   "metadata": {},
   "outputs": [
    {
     "data": {
      "image/png": "[encoded data removed]",
      "text/plain": [
       "<matplotlib.figure.Figure at 0x296e652e908>"
      ]
     },
     "metadata": {},
     "output_type": "display_data"
    }
   ],
   "source": [
    "c_r_unique['followers_count'][c_r_unique['followers_count']<50].value_counts().sort_index().plot(kind='bar')\n",
    "plt.show()"
   ]
  },
  {
   "cell_type": "code",
   "execution_count": 63,
   "metadata": {},
   "outputs": [
    {
     "data": {
      "image/png": "[encoded data removed]",
      "text/plain": [
       "<matplotlib.figure.Figure at 0x296e57fb0f0>"
      ]
     },
     "metadata": {},
     "output_type": "display_data"
    }
   ],
   "source": [
    "h_r_unique['followers_count'][h_r_unique['followers_count']>10].value_counts().sort_index().plot(kind='bar')\n",
    "plt.show()"
   ]
  },
  {
   "cell_type": "markdown",
   "metadata": {},
   "source": [
    "# 创建时间"
   ]
  },
  {
   "cell_type": "code",
   "execution_count": 64,
   "metadata": {},
   "outputs": [
    {
     "data": {
      "text/plain": [
       "02-05       10663\n",
       "02-06        3522\n",
       "02-07        3944\n",
       "02-08        1417\n",
       "02-09         736\n",
       "02-10         548\n",
       "02-11         433\n",
       "02-12         333\n",
       "02-13         256\n",
       "02-14         191\n",
       "02-15         229\n",
       "02-16         133\n",
       "02-17         157\n",
       "02-18          82\n",
       "02-19          87\n",
       "02-20          95\n",
       "02-21          54\n",
       "02-22          61\n",
       "02-23          68\n",
       "02-24          48\n",
       "02-25          53\n",
       "02-26          53\n",
       "02-27          53\n",
       "02-28          21\n",
       "03-01          26\n",
       "03-02          23\n",
       "03-03          28\n",
       "03-04          20\n",
       "03-05          25\n",
       "03-06          22\n",
       "            ...  \n",
       "10-24           2\n",
       "10-25           3\n",
       "10-27           4\n",
       "10-28           1\n",
       "10-29           1\n",
       "10-30           1\n",
       "10-31           2\n",
       "11-01          12\n",
       "11-02           3\n",
       "11-03           2\n",
       "11-04           3\n",
       "11-05           4\n",
       "11-06           2\n",
       "11-07           4\n",
       "11-08           2\n",
       "11-09           6\n",
       "11-10           3\n",
       "11-11           2\n",
       "11-12           3\n",
       "11-13           4\n",
       "11-14           4\n",
       "11-15           1\n",
       "11-16           1\n",
       "11-17           4\n",
       "11-18           1\n",
       "11-19           1\n",
       "11-20           4\n",
       "11-21           2\n",
       "昨天 12:45        1\n",
       "昨天 14:03        1\n",
       "Name: created_at, Length: 284, dtype: int64"
      ]
     },
     "execution_count": 64,
     "metadata": {},
     "output_type": "execute_result"
    }
   ],
   "source": [
    "h_r_unique['created_at'].value_counts().sort_index()"
   ]
  },
  {
   "cell_type": "code",
   "execution_count": 65,
   "metadata": {},
   "outputs": [
    {
     "data": {
      "text/plain": [
       "10分钟前         2\n",
       "10小时前       298\n",
       "11分钟前         4\n",
       "11小时前       351\n",
       "12小时前       336\n",
       "13小时前       342\n",
       "14分钟前         4\n",
       "14小时前       344\n",
       "15分钟前         1\n",
       "15小时前       257\n",
       "16分钟前         1\n",
       "16小时前       217\n",
       "17分钟前         2\n",
       "17小时前       235\n",
       "18小时前       279\n",
       "19分钟前         2\n",
       "19小时前       225\n",
       "1分钟前          1\n",
       "1小时前         79\n",
       "20分钟前         3\n",
       "20小时前       223\n",
       "21分钟前         2\n",
       "21小时前       221\n",
       "22分钟前         3\n",
       "22小时前       231\n",
       "23分钟前         1\n",
       "23小时前       203\n",
       "26分钟前         2\n",
       "27分钟前         1\n",
       "28分钟前         1\n",
       "           ... \n",
       "昨天 13:52      7\n",
       "昨天 13:53      5\n",
       "昨天 13:54      6\n",
       "昨天 13:55      5\n",
       "昨天 13:56      3\n",
       "昨天 13:57      4\n",
       "昨天 13:58      2\n",
       "昨天 13:59      3\n",
       "昨天 14:00      6\n",
       "昨天 14:01      6\n",
       "昨天 14:02      4\n",
       "昨天 14:03      6\n",
       "昨天 14:04      6\n",
       "昨天 14:05      8\n",
       "昨天 14:06      4\n",
       "昨天 14:07      2\n",
       "昨天 14:08      7\n",
       "昨天 14:09      4\n",
       "昨天 14:10      6\n",
       "昨天 14:11      6\n",
       "昨天 14:12      7\n",
       "昨天 14:13      8\n",
       "昨天 14:14      5\n",
       "昨天 14:15      5\n",
       "昨天 14:16     10\n",
       "昨天 14:17      7\n",
       "昨天 14:18      6\n",
       "昨天 14:19      5\n",
       "昨天 14:20      5\n",
       "昨天 14:21      4\n",
       "Name: created_at, Length: 215, dtype: int64"
      ]
     },
     "execution_count": 65,
     "metadata": {},
     "output_type": "execute_result"
    }
   ],
   "source": [
    "c_r_unique['created_at'].value_counts().sort_index()"
   ]
  },
  {
   "cell_type": "markdown",
   "metadata": {},
   "source": [
    "# 发博数量"
   ]
  },
  {
   "cell_type": "code",
   "execution_count": 66,
   "metadata": {},
   "outputs": [
    {
     "name": "stdout",
     "output_type": "stream",
     "text": [
      "韩寒转发者的平均发博数为： 3053.8681499959766\n",
      "蔡徐坤转发者的平均发博数为： 2772.270914724505\n",
      "韩寒转发者的最大发博数为： 337254\n",
      "蔡徐坤转发者的最大发博数为： 179692\n",
      "韩寒转发者的发博数方差为： 58062380.935457945\n",
      "蔡徐坤转发者的发博数方差为： 29561604.153084368\n",
      "韩寒转发者的发博数中值为： 1022.0\n",
      "蔡徐坤转发者的发博数中值为： 945.0\n"
     ]
    }
   ],
   "source": [
    "print('韩寒转发者的平均发博数为：',np.average(h_r_unique['statuses_count']))\n",
    "print('蔡徐坤转发者的平均发博数为：',np.average(c_r_unique['statuses_count']))\n",
    "print('韩寒转发者的最大发博数为：',h_r_unique['statuses_count'].max())\n",
    "print('蔡徐坤转发者的最大发博数为：',c_r_unique['statuses_count'].max())\n",
    "print('韩寒转发者的发博数方差为：',h_r_unique['statuses_count'].var())\n",
    "print('蔡徐坤转发者的发博数方差为：',c_r_unique['statuses_count'].var())\n",
    "print('韩寒转发者的发博数中值为：',h_r_unique['statuses_count'].median())\n",
    "print('蔡徐坤转发者的发博数中值为：',c_r_unique['statuses_count'].median())"
   ]
  },
  {
   "cell_type": "markdown",
   "metadata": {},
   "source": [
    "# 发博工具"
   ]
  },
  {
   "cell_type": "code",
   "execution_count": 67,
   "metadata": {},
   "outputs": [],
   "source": [
    "source = h_r_unique['source'].value_counts()\n",
    "ser = h_r_unique['repost_times'].groupby(h_r_unique['source']).sum().sort_values(ascending=False)\n",
    "source ={\"source\":source.index,\"times\":source.values}\n",
    "source = pd.DataFrame(source)\n",
    "ser = {\"source\":ser.index,\"repost_times\":ser.values}\n",
    "ser = pd.DataFrame(ser)\n",
    "source = source.set_index('source',drop=False).join(ser.set_index('source'))\n",
    "source = source.reset_index(drop=True)"
   ]
  },
  {
   "cell_type": "code",
   "execution_count": 68,
   "metadata": {},
   "outputs": [
    {
     "data": {
      "image/png": "[encoded data removed]",
      "text/plain": [
       "<matplotlib.figure.Figure at 0x296e62a1400>"
      ]
     },
     "metadata": {},
     "output_type": "display_data"
    },
    {
     "data": {
      "text/plain": [
       "<matplotlib.figure.Figure at 0x296e9767898>"
      ]
     },
     "metadata": {},
     "output_type": "display_data"
    }
   ],
   "source": [
    "a = list(source['repost_times']/source['times'])\n",
    "plt.bar(list(source['source']),a)\n",
    "plt.figure(figsize=(40,20))\n",
    "plt.show()"
   ]
  },
  {
   "cell_type": "code",
   "execution_count": 69,
   "metadata": {},
   "outputs": [
    {
     "data": {
      "image/png": "[encoded data removed]",
      "text/plain": [
       "<matplotlib.figure.Figure at 0x296eb697470>"
      ]
     },
     "metadata": {},
     "output_type": "display_data"
    }
   ],
   "source": [
    "plt.pie(list(source['times']),labels=list(source['source']))\n",
    "# 设置全局字体\n",
    "plt.rcParams['font.sans-serif'] = ['SimHei']\n",
    "# 解决‘-’表现为方块的问题\n",
    "plt.rcParams['axes.unicode_minus'] = False\n",
    "plt.show()"
   ]
  },
  {
   "cell_type": "code",
   "execution_count": 70,
   "metadata": {},
   "outputs": [],
   "source": [
    "source = c_r_unique['source'].value_counts()\n",
    "ser = c_r_unique['repost_times'].groupby(c_r_unique['source']).sum().sort_values(ascending=False)\n",
    "source ={\"source\":source.index,\"times\":source.values}\n",
    "source = pd.DataFrame(source)\n",
    "ser = {\"source\":ser.index,\"repost_times\":ser.values}\n",
    "ser = pd.DataFrame(ser)\n",
    "source = source.set_index('source',drop=False).join(ser.set_index('source'))\n",
    "source = source.reset_index(drop=True)"
   ]
  },
  {
   "cell_type": "code",
   "execution_count": 71,
   "metadata": {},
   "outputs": [
    {
     "data": {
      "image/png": "[encoded data removed]",
      "text/plain": [
       "<matplotlib.figure.Figure at 0x296e63bab38>"
      ]
     },
     "metadata": {},
     "output_type": "display_data"
    },
    {
     "data": {
      "text/plain": [
       "<matplotlib.figure.Figure at 0x296e63ba978>"
      ]
     },
     "metadata": {},
     "output_type": "display_data"
    }
   ],
   "source": [
    "a = list(source['repost_times']/source['times'])\n",
    "plt.bar(list(source['source']),a)\n",
    "plt.figure(figsize=(40,20))\n",
    "plt.show()"
   ]
  },
  {
   "cell_type": "code",
   "execution_count": 72,
   "metadata": {},
   "outputs": [
    {
     "data": {
      "image/png": "[encoded data removed]",
      "text/plain": [
       "<matplotlib.figure.Figure at 0x296e909b5f8>"
      ]
     },
     "metadata": {},
     "output_type": "display_data"
    }
   ],
   "source": [
    "plt.pie(list(source['times']),labels=list(source['source']))\n",
    "# 设置全局字体\n",
    "plt.rcParams['font.sans-serif'] = ['SimHei']\n",
    "# 解决‘-’表现为方块的问题\n",
    "plt.rcParams['axes.unicode_minus'] = False\n",
    "plt.show()"
   ]
  },
  {
   "cell_type": "code",
   "execution_count": 73,
   "metadata": {},
   "outputs": [],
   "source": [
    "# 转发设备的比例很不同"
   ]
  },
  {
   "cell_type": "markdown",
   "metadata": {},
   "source": [
    "# 等级urank"
   ]
  },
  {
   "cell_type": "code",
   "execution_count": 74,
   "metadata": {},
   "outputs": [
    {
     "name": "stdout",
     "output_type": "stream",
     "text": [
      "韩寒转发者的平均等级为： 23.83572060835278\n",
      "蔡徐坤转发者的平均等级为： 10.305536844941399\n",
      "韩寒转发者的最大等级为： 48\n",
      "蔡徐坤转发者的最大等级为： 48\n",
      "韩寒转发者的等级方差为： 184.86538373074154\n",
      "蔡徐坤转发者的等级方差为： 82.40132593771752\n",
      "韩寒转发者的等级中值为： 27.0\n",
      "蔡徐坤转发者的等级中值为： 9.0\n"
     ]
    }
   ],
   "source": [
    "print('韩寒转发者的平均等级为：',np.average(h_r_unique['urank']))\n",
    "print('蔡徐坤转发者的平均等级为：',np.average(c_r_unique['urank']))\n",
    "print('韩寒转发者的最大等级为：',h_r_unique['urank'].max())\n",
    "print('蔡徐坤转发者的最大等级为：',c_r_unique['urank'].max())\n",
    "print('韩寒转发者的等级方差为：',np.var(h_r_unique['urank']))\n",
    "print('蔡徐坤转发者的等级方差为：',np.var(c_r_unique['urank']))\n",
    "print('韩寒转发者的等级中值为：',h_r_unique['urank'].median())\n",
    "print('蔡徐坤转发者的等级中值为：',c_r_unique['urank'].median())"
   ]
  },
  {
   "cell_type": "code",
   "execution_count": 75,
   "metadata": {},
   "outputs": [],
   "source": [
    "# 很明显，转发者的等级差距明显"
   ]
  },
  {
   "cell_type": "markdown",
   "metadata": {},
   "source": [
    "# 描述"
   ]
  },
  {
   "cell_type": "code",
   "execution_count": 76,
   "metadata": {},
   "outputs": [
    {
     "name": "stdout",
     "output_type": "stream",
     "text": [
      "韩寒转发者的描述为空的比例 0.22298221614227087\n",
      "蔡徐坤转发者的描述为空的比例 0.4649063720867574\n"
     ]
    }
   ],
   "source": [
    "#description为空的比例\n",
    "print(\"韩寒转发者的描述为空的比例\",len(h_r_unique[h_r_unique['description'] != h_r_unique['description']])/len(h_r_unique['description']))\n",
    "print(\"蔡徐坤转发者的描述为空的比例\",len(c_r_unique[c_r_unique['description'] != c_r_unique['description']])/len(c_r_unique['description']))"
   ]
  },
  {
   "cell_type": "code",
   "execution_count": 77,
   "metadata": {},
   "outputs": [],
   "source": [
    "# 很明显，转发者是否有描述的比例差距明显"
   ]
  },
  {
   "cell_type": "markdown",
   "metadata": {},
   "source": [
    "# 勋章数badge"
   ]
  },
  {
   "cell_type": "code",
   "execution_count": 78,
   "metadata": {},
   "outputs": [
    {
     "name": "stdout",
     "output_type": "stream",
     "text": [
      "韩寒转发者的平均勋章数为： 8.81568359217832\n",
      "蔡徐坤转发者的平均勋章数为： 9.220800215546275\n",
      "韩寒转发者的最大勋章数为： 45\n",
      "蔡徐坤转发者的最大勋章数为： 35\n",
      "韩寒转发者的勋章数方差为： 27.845765129789406\n",
      "蔡徐坤转发者的勋章数方差为： 37.049051387137126\n",
      "韩寒转发者的勋章数中值为： 8.0\n",
      "蔡徐坤转发者的勋章数中值为： 9.0\n"
     ]
    }
   ],
   "source": [
    "print('韩寒转发者的平均勋章数为：',np.average(h_r_unique['badge']))\n",
    "print('蔡徐坤转发者的平均勋章数为：',np.average(c_r_unique['badge']))\n",
    "print('韩寒转发者的最大勋章数为：',h_r_unique['badge'].max())\n",
    "print('蔡徐坤转发者的最大勋章数为：',c_r_unique['badge'].max())\n",
    "print('韩寒转发者的勋章数方差为：',np.var(h_r_unique['badge']))\n",
    "print('蔡徐坤转发者的勋章数方差为：',np.var(c_r_unique['badge']))\n",
    "print('韩寒转发者的勋章数中值为：',h_r_unique['badge'].median())\n",
    "print('蔡徐坤转发者的勋章数中值为：',c_r_unique['badge'].median())"
   ]
  },
  {
   "cell_type": "markdown",
   "metadata": {},
   "source": [
    "# 转发者的转发数、评论数、点赞数"
   ]
  },
  {
   "cell_type": "code",
   "execution_count": 79,
   "metadata": {},
   "outputs": [
    {
     "name": "stdout",
     "output_type": "stream",
     "text": [
      "韩寒转发数为0的比例 0.9852740001609399\n",
      "蔡徐坤转发数为0的比例 0.9929947460595446\n"
     ]
    }
   ],
   "source": [
    "print(\"韩寒转发数为0的比例\",len(h_r_unique[h_r_unique['reposts_count']==0])/len(h_r_unique))\n",
    "print(\"蔡徐坤转发数为0的比例\",len(c_r_unique[c_r_unique['reposts_count']==0])/len(c_r_unique))"
   ]
  },
  {
   "cell_type": "code",
   "execution_count": 80,
   "metadata": {},
   "outputs": [
    {
     "name": "stdout",
     "output_type": "stream",
     "text": [
      "韩寒评论数为0的比例 0.9613341916794077\n",
      "蔡徐坤评论数为0的比例 0.9971709551394315\n"
     ]
    }
   ],
   "source": [
    "print(\"韩寒评论数为0的比例\",len(h_r_unique[h_r_unique['comments_count']==0])/len(h_r_unique))\n",
    "print(\"蔡徐坤评论数为0的比例\",len(c_r_unique[c_r_unique['comments_count']==0])/len(c_r_unique))"
   ]
  },
  {
   "cell_type": "code",
   "execution_count": 81,
   "metadata": {},
   "outputs": [
    {
     "name": "stdout",
     "output_type": "stream",
     "text": [
      "韩寒点赞数为0的比例 0.877605214452402\n",
      "蔡徐坤点赞数为0的比例 0.9835645965243163\n"
     ]
    }
   ],
   "source": [
    "print(\"韩寒点赞数为0的比例\",len(h_r_unique[h_r_unique['attitudes_count']==0])/len(h_r_unique))\n",
    "print(\"蔡徐坤点赞数为0的比例\",len(c_r_unique[c_r_unique['attitudes_count']==0])/len(c_r_unique))"
   ]
  },
  {
   "cell_type": "code",
   "execution_count": 82,
   "metadata": {},
   "outputs": [],
   "source": [
    "# 很明显，转发者转发的质量明显差距"
   ]
  },
  {
   "cell_type": "markdown",
   "metadata": {},
   "source": [
    "# isLongText"
   ]
  },
  {
   "cell_type": "code",
   "execution_count": 83,
   "metadata": {},
   "outputs": [
    {
     "name": "stdout",
     "output_type": "stream",
     "text": [
      "韩寒转发者的描述为空的比例 0.0\n",
      "蔡徐坤转发者的描述为空的比例 0.0\n"
     ]
    }
   ],
   "source": [
    "#isLongText为空的比例\n",
    "print(\"韩寒转发者的描述为空的比例\",len(h_r_unique[h_r_unique['isLongText'] == True])/len(h_r_unique['isLongText']))\n",
    "print(\"蔡徐坤转发者的描述为空的比例\",len(c_r_unique[c_r_unique['isLongText'] == True])/len(c_r_unique['isLongText']))"
   ]
  },
  {
   "cell_type": "code",
   "execution_count": 84,
   "metadata": {},
   "outputs": [
    {
     "data": {
      "text/plain": [
       "False    24854\n",
       "Name: isLongText, dtype: int64"
      ]
     },
     "execution_count": 84,
     "metadata": {},
     "output_type": "execute_result"
    }
   ],
   "source": [
    "h_r_unique['isLongText'].value_counts()"
   ]
  },
  {
   "cell_type": "code",
   "execution_count": 85,
   "metadata": {},
   "outputs": [
    {
     "data": {
      "text/plain": [
       "False    7423\n",
       "Name: isLongText, dtype: int64"
      ]
     },
     "execution_count": 85,
     "metadata": {},
     "output_type": "execute_result"
    }
   ],
   "source": [
    "c_r_unique['isLongText'].value_counts()"
   ]
  },
  {
   "cell_type": "code",
   "execution_count": 86,
   "metadata": {},
   "outputs": [],
   "source": [
    "#都是false，没有什么用"
   ]
  },
  {
   "cell_type": "markdown",
   "metadata": {},
   "source": [
    "# cover_image_phone/avatar_hd"
   ]
  },
  {
   "cell_type": "code",
   "execution_count": 87,
   "metadata": {},
   "outputs": [
    {
     "data": {
      "text/plain": [
       "https://tva1.sinaimg.cn/crop.0.0.640.640.640/549d0121tw1egm1kjly3jj20hs0hsq4f.jpg    12417\n",
       "https://tva1.sinaimg.cn/crop.0.0.640.640.640/9d44112bjw1f1xl1c10tuj20hs0hs0tw.jpg     2286\n",
       "https://tva2.sinaimg.cn/crop.0.0.640.640.640/a1d3feabjw1ecasunmkncj20hs0hsq4j.jpg      827\n",
       "https://tva2.sinaimg.cn/crop.0.0.640.640.640/a1d3feabjw1ecat8op0e1j20hs0hswgu.jpg      556\n",
       "https://tva4.sinaimg.cn/crop.0.0.640.640.640/6ce2240djw1e8iktk4ohij20hs0hsmz6.jpg      537\n",
       "https://tva4.sinaimg.cn/crop.0.0.640.640.640/a1d3feabjw1ecat3p2p2qj20hs0hsmz4.jpg      526\n",
       "https://tva3.sinaimg.cn/crop.0.0.640.640/6ce2240djw1e9uwsjwemzj20hs0hs41z.jpg          430\n",
       "https://tva1.sinaimg.cn/crop.0.0.640.640.640/a1d3feabjw1ecat4uqw77j20hs0hsacp.jpg      357\n",
       "https://tva1.sinaimg.cn/crop.0.0.640.640.640/6cf8d7ebjw1ehfr4xa8psj20hs0hsgpg.jpg      318\n",
       "https://tva3.sinaimg.cn/crop.0.0.640.640.640/a1d3feabjw1eca1ktsx9tj20hs0hsjtk.jpg      229\n",
       "https://tva4.sinaimg.cn/crop.0.0.640.640/6cf8d7ebjw1ehfr60whp7j20hs0hsacf.jpg          229\n",
       "https://tva4.sinaimg.cn/crop.0.0.0.640.640/6ce2240djw1e9uwue857ij20hs0hsjuk.jpg        213\n",
       "https://tva2.sinaimg.cn/crop.0.0.640.640/68f96449jw1ergqx79rw4j20hs0hswh0.jpg          175\n",
       "https://tva2.sinaimg.cn/crop.0.0.640.640.640/a1d3feabjw1ecat6lu6j1j20hs0hsmzf.jpg      148\n",
       "https://tva2.sinaimg.cn/crop.0.0.640.640.640/a1d3feabjw1ecassls6b2j20hs0hsq50.jpg      137\n",
       "https://tva3.sinaimg.cn/crop.0.0.640.640.640/6ce2240djw1e9odcin216j20hs0hstd8.jpg      124\n",
       "https://tva3.sinaimg.cn/crop.0.0.640.640.640/6ce2240djw1e9114p3hudj20hs0hs427.jpg      110\n",
       "https://tva1.sinaimg.cn/crop.0.0.0.640.640/6ce2240djw1e9uwtyezgfj20hs0hstb7.jpg        109\n",
       "https://tva1.sinaimg.cn/crop.0.0.640.640.640/6ce2240djw1e9112irynuj20hs0hs42i.jpg      107\n",
       "https://tva2.sinaimg.cn/crop.0.0.640.640.640/a1d3feabjw1ecatccqmkbj20hs0hsmzb.jpg      105\n",
       "https://tva3.sinaimg.cn/crop.0.0.640.640.640/a1d3feabjw1eca1gkmhz8j20hs0hswfn.jpg       99\n",
       "https://tva3.sinaimg.cn/crop.0.0.640.640.640/a1d3feabjw1ecatd6m582j20hs0hsdka.jpg       91\n",
       "https://tva1.sinaimg.cn/crop.0.0.640.640/549d0121tw1egm1kjly3jj20hs0hsq4f.jpg           87\n",
       "https://tva4.sinaimg.cn/crop.0.0.640.640.640/a1d3feabjw1ecat7otiwqj20hs0hst9y.jpg       83\n",
       "https://tva4.sinaimg.cn/crop.0.0.640.640.640/a1d3feabjw1ez3ul46nlsj20hs0hsmz1.jpg       76\n",
       "https://tva3.sinaimg.cn/crop.0.0.0.640.640/6ce2240djw1e9uwupbjn7j20hs0hstc2.jpg         76\n",
       "https://tva1.sinaimg.cn/crop.0.0.640.640.640/a1d3feabjw1ecasw82c0pj20hs0hs3zv.jpg       76\n",
       "https://tva1.sinaimg.cn/crop.0.0.640.640.640/6ce2240djw1e9snuksa5nj20hs0hs78b.jpg       67\n",
       "https://tva3.sinaimg.cn/crop.0.0.640.640.640/68f96449tw1egwcah85a8j20hs0hsdic.jpg       65\n",
       "https://tva2.sinaimg.cn/crop.0.0.640.640.640/a1d3feabjw1ecat9z1jucj20hs0hsn03.jpg       59\n",
       "                                                                                     ...  \n",
       "https://wx3.sinaimg.cn/crop.0.0.640.640.640/88df7146gy1g82qmx2ocpj20u00u0nh1.jpg         1\n",
       "https://wx2.sinaimg.cn/crop.0.0.640.640.640/42141882gy1fp2kyqn7hrj20e80e80ue.jpg         1\n",
       "https://wx4.sinaimg.cn/crop.0.0.640.640.640/bf82a1e4gy1g3138glgwkj20yi0yidje.jpg         1\n",
       "https://wx1.sinaimg.cn/crop.0.0.640.640.640/6b15a7e1ly1g2bexgizr3j20v90v9dh9.jpg         1\n",
       "https://wx4.sinaimg.cn/crop.0.0.640.640.640/86f4073cly1fzr2srf42vj20yi0yidr8.jpg         1\n",
       "https://wx1.sinaimg.cn/crop.0.0.640.640.640/a9ea6969ly1g92jw7xt8uj20u00u04qp.jpg         1\n",
       "https://wx3.sinaimg.cn/crop.0.0.640.640.640/005vvjRHgy1g5x0qjrhopj30u00u01cq.jpg         1\n",
       "https://wx1.sinaimg.cn/crop.0.0.640.640.640/b006033fly1g74z9npyz3j20ku0ku40q.jpg         1\n",
       "https://wx4.sinaimg.cn/crop.0.0.640.640.640/927ce8bdgy1fx51kgo1xaj20e80e8dgs.jpg         1\n",
       "https://wx2.sinaimg.cn/crop.0.0.640.640.640/73260c6bly1fokinoba7jj20ku0ktgn7.jpg         1\n",
       "https://wx1.sinaimg.cn/crop.0.0.640.640.640/007y43R5ly1g0d89561cvj30yi0yi74p.jpg         1\n",
       "https://wx1.sinaimg.cn/crop.0.0.640.640.640/92301f5aly1fzsgpop3raj20u00u0tib.jpg         1\n",
       "https://wx3.sinaimg.cn/crop.0.0.640.640.640/005KAS4fly1g97vwhv4htj30e80e8myd.jpg         1\n",
       "https://wx3.sinaimg.cn/crop.0.0.640.640.640/a3a2ad49ly1g3lglwp15gj20v90v977j.jpg         1\n",
       "https://wx2.sinaimg.cn/crop.0.0.640.640.640/7129f9b1gy1g5klmjhsn2j20u00u0x1v.jpg         1\n",
       "https://wx3.sinaimg.cn/crop.0.0.640.640.640/74f1eee6ly1g8tv1zl7n7j20v90v9aft.jpg         1\n",
       "https://wx2.sinaimg.cn/crop.0.0.640.640.640/6b9e06b3ly1fyccmdd5l5j216o16o4dw.jpg         1\n",
       "https://wx1.sinaimg.cn/crop.0.0.640.640.640/007bMAYgly1g5qtro9ib0j30u00u0wy1.jpg         1\n",
       "https://wx2.sinaimg.cn/crop.0.0.640.640.640/6a141972gy1ffoskz74eqj20e80e3ta3.jpg         1\n",
       "https://wx1.sinaimg.cn/crop.0.0.640.640.640/005IKNrNgy1fldej7hr8dj30ku0kuacj.jpg         1\n",
       "https://wx1.sinaimg.cn/crop.0.0.640.640.640/a9baf2efly1fiduj9h61uj20u00u01a5.jpg         1\n",
       "https://wx1.sinaimg.cn/crop.0.0.640.640.640/6750f156ly1g94j9tev6dj20e80e8t9c.jpg         1\n",
       "https://wx1.sinaimg.cn/crop.0.0.640.640.640/966803d3gy1fxhhyk6kbej20yi0yi427.jpg         1\n",
       "https://wx3.sinaimg.cn/crop.0.0.640.640.640/d2b896e6ly1g3djgcqe99j20v90v9wib.jpg         1\n",
       "https://wx4.sinaimg.cn/crop.0.0.640.640.640/e47acb9bly1g0plusu58gj20u00u0nhs.jpg         1\n",
       "https://wx3.sinaimg.cn/crop.0.0.640.640.640/77d71d9fgy1fwbljmxfepj20v90v9n0d.jpg         1\n",
       "https://wx1.sinaimg.cn/crop.0.0.640.640.640/4a5b16caly1fp8qejcfywj20v90v9taq.jpg         1\n",
       "https://wx1.sinaimg.cn/crop.0.0.640.640.640/007bh4G7ly1g80d9iufbfj30u00u0qjg.jpg         1\n",
       "https://wx1.sinaimg.cn/crop.0.0.640.640.640/6937417bly1g2dneiks15j20ku0kuwh8.jpg         1\n",
       "https://wx3.sinaimg.cn/crop.0.0.640.640.640/005GVfVDly1fudphjx16oj30u00u0n5q.jpg         1\n",
       "Name: cover_image_phone, Length: 3197, dtype: int64"
      ]
     },
     "execution_count": 87,
     "metadata": {},
     "output_type": "execute_result"
    }
   ],
   "source": [
    "h_r_unique['cover_image_phone'].value_counts()"
   ]
  },
  {
   "cell_type": "code",
   "execution_count": 88,
   "metadata": {},
   "outputs": [
    {
     "data": {
      "text/plain": [
       "https://tva1.sinaimg.cn/crop.0.0.640.640.640/549d0121tw1egm1kjly3jj20hs0hsq4f.jpg    4655\n",
       "https://tva1.sinaimg.cn/crop.0.0.640.640.640/9d44112bjw1f1xl1c10tuj20hs0hs0tw.jpg    1311\n",
       "https://wx1.sinaimg.cn/crop.0.0.640.640.640/0077YBNZly1fxfu443rwfj30hs0hsgmd.jpg      207\n",
       "https://tva3.sinaimg.cn/crop.0.0.640.640/6ce2240djw1e9uwsjwemzj20hs0hs41z.jpg          91\n",
       "https://wx4.sinaimg.cn/crop.0.0.640.640.640/0070JLSwly1g552v0682gj30yi0yi787.jpg       69\n",
       "https://wx2.sinaimg.cn/crop.0.0.640.640.640/69e273f8ly1fsgnkavnd5j20v90v9gmf.jpg       56\n",
       "https://wx3.sinaimg.cn/crop.0.0.640.640.640/69e273f8ly1g37ak620syj20v90v9n0w.jpg       32\n",
       "https://tva2.sinaimg.cn/crop.0.0.640.640/68f96449jw1ergqx79rw4j20hs0hswh0.jpg          31\n",
       "https://tva2.sinaimg.cn/crop.0.0.640.640.640/a1d3feabjw1ecasunmkncj20hs0hsq4j.jpg      28\n",
       "https://wx4.sinaimg.cn/crop.0.0.640.640.640/69e273f8ly1g552llewkfj20e80e8wf8.jpg       21\n",
       "https://tva2.sinaimg.cn/crop.0.0.640.640.640/a1d3feabjw1ecatccqmkbj20hs0hsmzb.jpg      20\n",
       "https://tva4.sinaimg.cn/crop.0.0.640.640.640/a1d3feabjw1ecat3p2p2qj20hs0hsmz4.jpg      16\n",
       "https://tva4.sinaimg.cn/crop.0.0.640.640.640/6ce2240djw1e8iktk4ohij20hs0hsmz6.jpg      14\n",
       "https://tva3.sinaimg.cn/crop.0.0.640.640.640/a1d3feabjw1eca1ktsx9tj20hs0hsjtk.jpg      12\n",
       "https://wx3.sinaimg.cn/crop.0.0.640.640.640/69e273f8ly1g4vs3nczr6j20e80e8wft.jpg       10\n",
       "https://tva2.sinaimg.cn/crop.0.0.640.640.640/68f96449jw1ergqx79rw4j20hs0hswh0.jpg       9\n",
       "https://wx4.sinaimg.cn/crop.0.0.640.640.640/a1d3feably1fl9nr80k11j20hs0hsmze.jpg        8\n",
       "https://tva4.sinaimg.cn/crop.0.0.640.640.640/a1d3feabjw1ez3ul46nlsj20hs0hsmz1.jpg       8\n",
       "https://tva3.sinaimg.cn/crop.0.0.640.640.640/6ce2240djw1e9uwsjwemzj20hs0hs41z.jpg       5\n",
       "https://tva1.sinaimg.cn/crop.0.0.640.640.640/6cf8d7ebjw1ehfr4xa8psj20hs0hsgpg.jpg       5\n",
       "https://wx1.sinaimg.cn/crop.0.0.640.640.640/a1d3feably1fgm1s90o9qj20hs0hsjya.jpg        4\n",
       "https://tva2.sinaimg.cn/crop.0.0.640.640.640/a1d3feabjw1ecat8op0e1j20hs0hswgu.jpg       4\n",
       "https://tva4.sinaimg.cn/crop.0.0.640.640/68f96449jw1ergqu7ie1sj20hs0hsaek.jpg           3\n",
       "https://wx2.sinaimg.cn/crop.0.0.640.640.640/4bc92b94ly1g81k71dfqij20yi0yijw9.jpg        3\n",
       "https://tva1.sinaimg.cn/crop.0.0.640.640.640/6ce2240djw1e9112irynuj20hs0hs42i.jpg       3\n",
       "https://tva1.sinaimg.cn/crop.0.0.0.640.640/6ce2240djw1e9uwtyezgfj20hs0hstb7.jpg         3\n",
       "https://tva4.sinaimg.cn/crop.0.0.640.640/6cf8d7ebjw1ehfr60whp7j20hs0hsacf.jpg           3\n",
       "https://tva3.sinaimg.cn/crop.0.0.640.640.640/6ce2240djw1e9oc39jbm4j20hs0hs0tf.jpg       2\n",
       "https://tva1.sinaimg.cn/crop.0.0.640.640.640/a1d3feabjw1ecat4uqw77j20hs0hsacp.jpg       2\n",
       "https://wx2.sinaimg.cn/crop.0.0.640.640.640/69e273f8ly1fsgmwrslrfj20v90v9dgo.jpg        2\n",
       "                                                                                     ... \n",
       "https://wx4.sinaimg.cn/crop.0.0.640.640.640/006ws66Lly1g8awogb57qj30u00u0q8f.jpg        1\n",
       "https://wx3.sinaimg.cn/crop.0.0.640.640.640/0078rFnggy1g973y7ujlmj30u00u0118.jpg        1\n",
       "https://wx3.sinaimg.cn/crop.0.0.640.640.640/6924cfd5ly1g776hlyr38j20u00u0dw0.jpg        1\n",
       "https://wx3.sinaimg.cn/crop.0.0.640.640.640/006cikycly1g8yk24me4ij30qo0qoaau.jpg        1\n",
       "https://wx4.sinaimg.cn/crop.0.0.640.640.640/007KMegNly1g7vzbev2kpj30qo0lnjzw.jpg        1\n",
       "https://wx3.sinaimg.cn/crop.0.0.640.640.640/006YafTygy1g5makso5u7j30u00u03yf.jpg        1\n",
       "https://wx1.sinaimg.cn/crop.0.0.640.640.640/b27258d6gy1g8wyg0rxsnj20v90v9djv.jpg        1\n",
       "https://wx3.sinaimg.cn/crop.0.0.640.640.640/005LOJ1Cgy1g4legm44svj30u00u0496.jpg        1\n",
       "https://wx2.sinaimg.cn/crop.0.0.640.640.640/ba6d8235gy1g94f196tt6j20u00u049f.jpg        1\n",
       "https://wx3.sinaimg.cn/crop.0.0.640.640.640/00777Vs5ly1g8trwgw0dnj30k00k044q.jpg        1\n",
       "https://wx4.sinaimg.cn/crop.0.0.640.640.640/005A8T2Kly1g6a2an40n3j30u00u07h7.jpg        1\n",
       "https://wx2.sinaimg.cn/crop.0.0.640.640.640/007e2E6Ely1g5jk9vqj06j30e80e8jss.jpg        1\n",
       "https://wx4.sinaimg.cn/crop.0.0.640.640.640/006QpDpPly1g92z5kkz99j30u00u0dpc.jpg        1\n",
       "https://wx1.sinaimg.cn/crop.0.0.640.640.640/d99d4ff3ly1g5vy9k4mq8j20u00u0q4a.jpg        1\n",
       "https://wx1.sinaimg.cn/crop.0.0.640.640.640/50bfa40agy1g1y3gcuyt6j20ku0kuwfu.jpg        1\n",
       "https://wx1.sinaimg.cn/crop.0.0.640.640.640/006AsAz4gy1g8q27shdrsj30yi0yiq3z.jpg        1\n",
       "https://wx4.sinaimg.cn/crop.0.0.640.640.640/006cM0Uegy1g8z40cvhc0j30u00u01b3.jpg        1\n",
       "https://wx1.sinaimg.cn/crop.0.0.640.640.640/007c1nYHly1g97oeoqbkyj30k00k00wy.jpg        1\n",
       "https://wx4.sinaimg.cn/crop.0.0.640.640.640/006CtH9ely1g2a25kzyd0j316o16oai1.jpg        1\n",
       "https://wx2.sinaimg.cn/crop.0.0.640.640.640/0074yFjRly1g90swkqnwkj30u00u0wx9.jpg        1\n",
       "https://wx3.sinaimg.cn/crop.0.0.640.640.640/0068uBfCly1fsgnbjuka6j30k00k0mxi.jpg        1\n",
       "https://wx3.sinaimg.cn/crop.0.0.640.640.640/0079AmF4gy1g8lo7mgit5j30u00u0136.jpg        1\n",
       "https://wx1.sinaimg.cn/crop.0.0.640.640.640/006whX3jly1g2v38yur45j30e80e8q4q.jpg        1\n",
       "https://wx3.sinaimg.cn/crop.0.0.640.640.640/e27b93f7ly1g5jhwl5aluj20u00u0ngd.jpg        1\n",
       "https://wx4.sinaimg.cn/crop.0.0.640.640.640/0077ApAwgy1g7pywtpj7nj30u00u0dw1.jpg        1\n",
       "https://wx1.sinaimg.cn/crop.0.0.640.640.640/9ce63eb9ly1g90qp6jubrj20e80e8q3t.jpg        1\n",
       "https://wx2.sinaimg.cn/crop.0.0.640.640.640/73b77cbfgy1g4xv0luy3mj20v90v9dr1.jpg        1\n",
       "https://wx1.sinaimg.cn/crop.0.0.640.640.640/006yqVeuly1g5spmby1n9j30u00u0tey.jpg        1\n",
       "https://wx1.sinaimg.cn/crop.0.0.640.640.640/007dvIEIly1g974avkdv5j30k00k0k2k.jpg        1\n",
       "https://wx4.sinaimg.cn/crop.0.0.640.640.640/af75ab3bly1g1lwqk8ulhj20hs0hsmy2.jpg        1\n",
       "Name: cover_image_phone, Length: 808, dtype: int64"
      ]
     },
     "execution_count": 88,
     "metadata": {},
     "output_type": "execute_result"
    }
   ],
   "source": [
    "c_r_unique['cover_image_phone'].value_counts()"
   ]
  },
  {
   "cell_type": "code",
   "execution_count": 89,
   "metadata": {},
   "outputs": [
    {
     "data": {
      "text/html": [
       "<div>\n",
       "<style scoped>\n",
       "    .dataframe tbody tr th:only-of-type {\n",
       "        vertical-align: middle;\n",
       "    }\n",
       "\n",
       "    .dataframe tbody tr th {\n",
       "        vertical-align: top;\n",
       "    }\n",
       "\n",
       "    .dataframe thead th {\n",
       "        text-align: right;\n",
       "    }\n",
       "</style>\n",
       "<table border=\"1\" class=\"dataframe\">\n",
       "  <thead>\n",
       "    <tr style=\"text-align: right;\">\n",
       "      <th></th>\n",
       "      <th>screen_name</th>\n",
       "      <th>gender</th>\n",
       "      <th>followers_count</th>\n",
       "      <th>follow_count</th>\n",
       "      <th>created_at</th>\n",
       "      <th>source</th>\n",
       "      <th>statuses_count</th>\n",
       "      <th>id</th>\n",
       "      <th>urank</th>\n",
       "      <th>mbrank</th>\n",
       "      <th>...</th>\n",
       "      <th>pending_approval_count</th>\n",
       "      <th>isLongText</th>\n",
       "      <th>cover_image_phone</th>\n",
       "      <th>avatar_hd</th>\n",
       "      <th>mbtype</th>\n",
       "      <th>verified</th>\n",
       "      <th>profile_url</th>\n",
       "      <th>weibo_id</th>\n",
       "      <th>repost_times</th>\n",
       "      <th>fan_pro</th>\n",
       "    </tr>\n",
       "  </thead>\n",
       "  <tbody>\n",
       "  </tbody>\n",
       "</table>\n",
       "<p>0 rows × 27 columns</p>\n",
       "</div>"
      ],
      "text/plain": [
       "Empty DataFrame\n",
       "Columns: [screen_name, gender, followers_count, follow_count, created_at, source, statuses_count, id, urank, mbrank, description, badge, reposts_count, comments_count, attitudes_count, raw_text, repost_id, pending_approval_count, isLongText, cover_image_phone, avatar_hd, mbtype, verified, profile_url, weibo_id, repost_times, fan_pro]\n",
       "Index: []\n",
       "\n",
       "[0 rows x 27 columns]"
      ]
     },
     "execution_count": 89,
     "metadata": {},
     "output_type": "execute_result"
    }
   ],
   "source": [
    "h_r_unique[h_r_unique['avatar_hd']!=h_r_unique['avatar_hd']]"
   ]
  },
  {
   "cell_type": "code",
   "execution_count": 90,
   "metadata": {},
   "outputs": [
    {
     "data": {
      "text/html": [
       "<div>\n",
       "<style scoped>\n",
       "    .dataframe tbody tr th:only-of-type {\n",
       "        vertical-align: middle;\n",
       "    }\n",
       "\n",
       "    .dataframe tbody tr th {\n",
       "        vertical-align: top;\n",
       "    }\n",
       "\n",
       "    .dataframe thead th {\n",
       "        text-align: right;\n",
       "    }\n",
       "</style>\n",
       "<table border=\"1\" class=\"dataframe\">\n",
       "  <thead>\n",
       "    <tr style=\"text-align: right;\">\n",
       "      <th></th>\n",
       "      <th>screen_name</th>\n",
       "      <th>gender</th>\n",
       "      <th>followers_count</th>\n",
       "      <th>follow_count</th>\n",
       "      <th>created_at</th>\n",
       "      <th>source</th>\n",
       "      <th>statuses_count</th>\n",
       "      <th>id</th>\n",
       "      <th>urank</th>\n",
       "      <th>mbrank</th>\n",
       "      <th>...</th>\n",
       "      <th>pending_approval_count</th>\n",
       "      <th>isLongText</th>\n",
       "      <th>cover_image_phone</th>\n",
       "      <th>avatar_hd</th>\n",
       "      <th>mbtype</th>\n",
       "      <th>verified</th>\n",
       "      <th>profile_url</th>\n",
       "      <th>weibo_id</th>\n",
       "      <th>repost_times</th>\n",
       "      <th>fan_pro</th>\n",
       "    </tr>\n",
       "  </thead>\n",
       "  <tbody>\n",
       "  </tbody>\n",
       "</table>\n",
       "<p>0 rows × 27 columns</p>\n",
       "</div>"
      ],
      "text/plain": [
       "Empty DataFrame\n",
       "Columns: [screen_name, gender, followers_count, follow_count, created_at, source, statuses_count, id, urank, mbrank, description, badge, reposts_count, comments_count, attitudes_count, raw_text, repost_id, pending_approval_count, isLongText, cover_image_phone, avatar_hd, mbtype, verified, profile_url, weibo_id, repost_times, fan_pro]\n",
       "Index: []\n",
       "\n",
       "[0 rows x 27 columns]"
      ]
     },
     "execution_count": 90,
     "metadata": {},
     "output_type": "execute_result"
    }
   ],
   "source": [
    "c_r_unique[c_r_unique['cover_image_phone']!=c_r_unique['cover_image_phone']]"
   ]
  },
  {
   "cell_type": "code",
   "execution_count": 91,
   "metadata": {},
   "outputs": [],
   "source": [
    "#都存在背景图片和头像图片"
   ]
  },
  {
   "cell_type": "markdown",
   "metadata": {},
   "source": [
    "# mbtype"
   ]
  },
  {
   "cell_type": "code",
   "execution_count": 92,
   "metadata": {},
   "outputs": [
    {
     "data": {
      "text/plain": [
       "0     15460\n",
       "2      5625\n",
       "12     2411\n",
       "11     1251\n",
       "13      106\n",
       "14        1\n",
       "Name: mbtype, dtype: int64"
      ]
     },
     "execution_count": 92,
     "metadata": {},
     "output_type": "execute_result"
    }
   ],
   "source": [
    "h_r_unique['mbtype'].value_counts()"
   ]
  },
  {
   "cell_type": "code",
   "execution_count": 93,
   "metadata": {},
   "outputs": [
    {
     "data": {
      "image/png": "[encoded data removed]",
      "text/plain": [
       "<matplotlib.figure.Figure at 0x296ebe8cef0>"
      ]
     },
     "metadata": {},
     "output_type": "display_data"
    }
   ],
   "source": [
    "plt.pie(h_r_unique['mbtype'].value_counts().values,labels=h_r_unique['mbtype'].value_counts().index)\n",
    "# 设置全局字体\n",
    "plt.rcParams['font.sans-serif'] = ['SimHei']\n",
    "# 解决‘-’表现为方块的问题\n",
    "plt.rcParams['axes.unicode_minus'] = False\n",
    "plt.show()"
   ]
  },
  {
   "cell_type": "code",
   "execution_count": 94,
   "metadata": {},
   "outputs": [
    {
     "data": {
      "text/plain": [
       "0     3374\n",
       "2     2868\n",
       "11     627\n",
       "12     530\n",
       "13      24\n",
       "Name: mbtype, dtype: int64"
      ]
     },
     "execution_count": 94,
     "metadata": {},
     "output_type": "execute_result"
    }
   ],
   "source": [
    "c_r_unique['mbtype'].value_counts()"
   ]
  },
  {
   "cell_type": "code",
   "execution_count": 95,
   "metadata": {},
   "outputs": [
    {
     "data": {
      "image/png": "[encoded data removed]",
      "text/plain": [
       "<matplotlib.figure.Figure at 0x296e5959fd0>"
      ]
     },
     "metadata": {},
     "output_type": "display_data"
    }
   ],
   "source": [
    "plt.pie(c_r_unique['mbtype'].value_counts().values,labels=c_r_unique['mbtype'].value_counts().index)\n",
    "# 设置全局字体\n",
    "plt.rcParams['font.sans-serif'] = ['SimHei']\n",
    "# 解决‘-’表现为方块的问题\n",
    "plt.rcParams['axes.unicode_minus'] = False\n",
    "plt.show()"
   ]
  },
  {
   "cell_type": "code",
   "execution_count": 96,
   "metadata": {},
   "outputs": [],
   "source": [
    "#0和2的比例有差距"
   ]
  },
  {
   "cell_type": "markdown",
   "metadata": {},
   "source": [
    "# verified"
   ]
  },
  {
   "cell_type": "code",
   "execution_count": 97,
   "metadata": {},
   "outputs": [
    {
     "data": {
      "image/png": "[encoded data removed]",
      "text/plain": [
       "<matplotlib.figure.Figure at 0x296df495fd0>"
      ]
     },
     "metadata": {},
     "output_type": "display_data"
    }
   ],
   "source": [
    "plt.pie(h_r_unique['verified'].value_counts().values,labels=h_r_unique['verified'].value_counts().index)\n",
    "plt.show()"
   ]
  },
  {
   "cell_type": "code",
   "execution_count": 98,
   "metadata": {},
   "outputs": [
    {
     "data": {
      "image/png": "[encoded data removed]",
      "text/plain": [
       "<matplotlib.figure.Figure at 0x296e59594e0>"
      ]
     },
     "metadata": {},
     "output_type": "display_data"
    }
   ],
   "source": [
    "plt.pie(c_r_unique['verified'].value_counts().values,labels=c_r_unique['verified'].value_counts().index)\n",
    "plt.show()"
   ]
  },
  {
   "cell_type": "code",
   "execution_count": 99,
   "metadata": {},
   "outputs": [],
   "source": [
    "#是否认证的比例略有差距"
   ]
  },
  {
   "cell_type": "markdown",
   "metadata": {},
   "source": [
    "# 文档内容分析"
   ]
  },
  {
   "cell_type": "code",
   "execution_count": 100,
   "metadata": {},
   "outputs": [
    {
     "data": {
      "text/plain": [
       "转发微博                                                                                                            2331\n",
       "想你                                                                                                                95\n",
       "[心]                                                                                                               45\n",
       "爱你                                                                                                                41\n",
       "轉發微博                                                                                                              35\n",
       "//@蔡徐坤粉丝团官微:#蔡徐坤[超话]# [心]#蔡徐坤新歌重生#  收收收！我收！[心][心][心]@蔡徐坤                                                          30\n",
       "//@Origin_Kun数据站:#蔡徐坤[超话]# [憧憬]#蔡徐坤新歌重生#    都5.0了！期待18宫格[羞嗒嗒]@蔡徐坤 #重生-蔡徐坤[音乐]#                                    29\n",
       "//@IKUN一片红叶://@狮子与猫的约定:宝贝注意休息，不要熬夜[兔子]//@蔡徐坤网宣组:#蔡徐坤[超话]#丨#蔡徐坤新歌重生# 来自坤哥的明信片5.0[羞嗒嗒]天气变冷，要照顾好自己哦，小猫咪们等你归来[心]      28\n",
       "宝贝                                                                                                                26\n",
       "蔡徐坤                                                                                                               22\n",
       "晚安                                                                                                                20\n",
       "[心][心][心]                                                                                                         20\n",
       "哥哥                                                                                                                20\n",
       "//@Eromene:好好努力 我们一起努力 爱你等你～                                                                                      19\n",
       "#蔡徐坤 重生#                                                                                                          19\n",
       "收到                                                                                                                18\n",
       "想你了                                                                                                               17\n",
       "收到了                                                                                                               16\n",
       "3//@Adelle阿德:与音乐共处的蔡徐坤，好认真唷，等你 @蔡徐坤//@AK47-SKRSKRSKR:#蔡徐坤[超话]#❤️ #蔡徐坤新歌重生# 这是什么神仙宝贝，又努力又甜[喵喵]@蔡徐坤                 15\n",
       "转发                                                                                                                14\n",
       "好想你                                                                                                               14\n",
       "Repost                                                                                                            14\n",
       "[爱你]                                                                                                              14\n",
       "好看                                                                                                                14\n",
       "收到啦                                                                                                               13\n",
       "//@唯kun散粉个站:#蔡徐坤 重生# [心]#蔡徐坤vivo s5系列代言人# 哥哥真好@蔡徐坤                                                                13\n",
       "When you leave I'm begging you not to go                                                                          13\n",
       "Baby your love's got the best of me?                                                                              13\n",
       "超爱明信片                                                                                                             12\n",
       "想你啦                                                                                                               12\n",
       "                                                                                                                ... \n",
       "特别棒//@爱坤坤的林夕林夕:自从喜欢你，我每天都陷入爱情。蔡徐坤@蔡徐坤 //@K-Top数据组:#蔡徐坤新歌重生# [心]在国外要好好照顾好自己坤坤  我们一直在等你@蔡徐坤                          1\n",
       "未来的道路，无论多坎坷。我都会在蔡徐坤身边，不离不弃。@蔡徐坤                                                                                    1\n",
       "好的哥！                                                                                                               1\n",
       "[羞嗒嗒][羞嗒嗒][羞嗒嗒][羞嗒嗒]                                                                                               1\n",
       "麻麻最近有在努力演唱会往前坐几排喏[亲亲][亲亲][亲亲]                                                                                      1\n",
       "小菜真的好认真，加油，注意休息啊@蔡徐坤                                                                                               1\n",
       "认真的宝贝最迷人啦[心]                                                                                                       1\n",
       "认真工作的葵[爱你][太开心]                                                                                                    1\n",
       "@蔡徐坤 晚安～虽然有时差。等你回来啊！                                                                                               1\n",
       "我超喜欢帽衫坤                                                                                                            1\n",
       "菜菜，想你啦，你有没有好好吃饭，好好睡觉呀，要注意保暖哦[抱抱]@蔡徐坤                                                                               1\n",
       "认真做事的样子太帅了@蔡徐坤                                                                                                     1\n",
       "854//@Origin_Kun数据站:#蔡徐坤[超话]# [憧憬]#蔡徐坤新歌重生#    都5.0了！期待18宫格[羞嗒嗒]@蔡徐坤 #重生-蔡徐坤[音乐]#                                  1\n",
       "想你了哥哥🙁                                                                                                             1\n",
       "Take the rough with the smooth.                                                                                    1\n",
       "[憧憬][憧憬][憧憬][憧憬][憧憬][憧憬][憧憬][憧憬]                                                                                   1\n",
       "注意休息                                                                                                               1\n",
       "我的世界只有一个你（蔡徐坤），现在我的白天是你，黑夜的梦境也全是你。@蔡徐坤                                                                             1\n",
       "#蔡徐坤[超话]##蔡徐坤金发# #蔡徐坤 重生#  收到了[给你小心心]                                                                              1\n",
       "我来收                                                                                                                1\n",
       "[憧憬]//@蔡徐坤粉丝团官微:#蔡徐坤[超话]# [心]#蔡徐坤新歌重生#  收收收！我收！[心][心][心]@蔡徐坤                                                       1\n",
       "My heart is beating for you girl.                                                                                  1\n",
       "老公，好想你喏[悲伤]                                                                                                        1\n",
       "宝贝注意身体                                                                                                             1\n",
       "誓必也护你星途璀璨   @蔡徐坤                                                                                                   1\n",
       "是学弟                                                                                                                1\n",
       "#重生-蔡徐坤[音乐]#[加油]                                                                                                   1\n",
       "我喜欢你(´▽`ʃƪ)♡                                                                                                       1\n",
       "//@温柔葵妈养菜中:来啦 来陪宝贝写作业//@KSL-蔡徐坤数据组:#蔡徐坤[超话]#丨#蔡徐坤新歌重生# 收到～@蔡徐坤                                                     1\n",
       "Health is better than wealth.                                                                                      1\n",
       "Name: raw_text, Length: 3310, dtype: int64"
      ]
     },
     "execution_count": 100,
     "metadata": {},
     "output_type": "execute_result"
    }
   ],
   "source": [
    "c_r_unique['raw_text'].value_counts().sort_values(ascending=False)"
   ]
  },
  {
   "cell_type": "code",
   "execution_count": 101,
   "metadata": {},
   "outputs": [
    {
     "data": {
      "text/plain": [
       "806"
      ]
     },
     "execution_count": 101,
     "metadata": {},
     "output_type": "execute_result"
    }
   ],
   "source": [
    "len(c_r_unique[c_r_unique['raw_text'].str.contains('#')])"
   ]
  },
  {
   "cell_type": "code",
   "execution_count": 102,
   "metadata": {},
   "outputs": [
    {
     "data": {
      "text/plain": [
       "转发微博                                                                                                            3875\n",
       "//@So小公举 :#蔡徐坤新歌重生# 收到啦 认真的哥哥最帅 @蔡徐坤                                                                             185\n",
       "蔡徐坤//@So小公举 :#蔡徐坤新歌重生# 收到啦 认真的哥哥最帅 @蔡徐坤                                                                          168\n",
       "想你                                                                                                               148\n",
       "//@莫离kkkk:#蔡徐坤新歌重生# 我可以！！！                                                                                       127\n",
       "//@我是8020:#蔡徐坤新歌重生# All for Music All for KUN[害羞]                                                                124\n",
       "//@IKUN一片红叶:#蔡徐坤[超话]#丨#蔡徐坤新歌重生# 来自坤哥的明信片5.0[羞嗒嗒]天气变冷，要照顾好自己哦，小猫咪们等你归来[心]                                         120\n",
       "[心]//@我是8020:#蔡徐坤新歌重生# All for Music All for KUN[害羞]                                                             120\n",
       "[心]//@哈喽蔡蔡小朋友:好想你啊宝贝                                                                                             117\n",
       "//@IKUN一片红叶://@狮子与猫的约定:宝贝注意休息，不要熬夜[兔子]//@蔡徐坤网宣组:#蔡徐坤[超话]#丨#蔡徐坤新歌重生# 来自坤哥的明信片5.0[羞嗒嗒]天气变冷，要照顾好自己哦，小猫咪们等你归来[心]     116\n",
       "[鲜花]//@哈喽蔡蔡小朋友:好想你啊宝贝                                                                                            113\n",
       "[爱你]//@哈喽蔡蔡小朋友:好想你啊宝贝                                                                                            106\n",
       "//@Eromene:好好努力 我们一起努力 爱你等你～                                                                                      92\n",
       "//@蔡徐坤粉丝团官微:#蔡徐坤[超话]# [心]#蔡徐坤新歌重生#  收收收！我收！[心][心][心]@蔡徐坤                                                          80\n",
       "//@困困的小小小甜豆:好乖乖                                                                                                   77\n",
       "[心]                                                                                                               73\n",
       "//@听说你喜欢小葵://@ACFC蔡徐坤全国后援会:#蔡徐坤[超话]# ｜#蔡徐坤新歌重生# 是新鲜的哥哥呀，记得好好休息[心]@蔡徐坤                                             70\n",
       "爱你                                                                                                                70\n",
       "[给你小心心]//@0小花有角0:#蔡徐坤[超话]#❤️ #蔡徐坤新歌重生# 收到啦 想你想你@蔡徐坤                                                               69\n",
       "[鲜花]//@0小花有角0:#蔡徐坤[超话]#❤️ #蔡徐坤新歌重生# 收到啦 想你想你@蔡徐坤                                                                  65\n",
       "//@ikun女孩不能输:#蔡徐坤[超话]#❤️ #蔡徐坤新歌重生# 这是什么神仙宝贝，又努力又甜[喵喵]@蔡徐坤                                                         65\n",
       "[心]//@0小花有角0:#蔡徐坤[超话]#❤️ #蔡徐坤新歌重生# 收到啦 想你想你@蔡徐坤                                                                   63\n",
       "[羞嗒嗒]//@0小花有角0:#蔡徐坤[超话]#❤️ #蔡徐坤新歌重生# 收到啦 想你想你@蔡徐坤                                                                 61\n",
       "轉發微博                                                                                                              60\n",
       "[心][心]//@0小花有角0:#蔡徐坤[超话]#❤️ #蔡徐坤新歌重生# 收到啦 想你想你@蔡徐坤                                                                57\n",
       "[给你小心心][给你小心心][给你小心心]//@0小花有角0:#蔡徐坤[超话]#❤️ #蔡徐坤新歌重生# 收到啦 想你想你@蔡徐坤                                                 55\n",
       "//@一心一意蔡徐坤_0802:#蔡徐坤新歌重生# All for Music All for KUN[害羞]                                                           54\n",
       "//@Origin_Kun数据站:#蔡徐坤[超话]# [憧憬]#蔡徐坤新歌重生#    都5.0了！期待18宫格[羞嗒嗒]@蔡徐坤 #重生-蔡徐坤[音乐]#                                    52\n",
       "[羞嗒嗒][羞嗒嗒]//@0小花有角0:#蔡徐坤[超话]#❤️ #蔡徐坤新歌重生# 收到啦 想你想你@蔡徐坤                                                            52\n",
       "[给你小心心][给你小心心]//@0小花有角0:#蔡徐坤[超话]#❤️ #蔡徐坤新歌重生# 收到啦 想你想你@蔡徐坤                                                        51\n",
       "                                                                                                                ... \n",
       "加油坤坤                                                                                                               1\n",
       "啊啊啊啊来啦                                                                                                             1\n",
       "1//@鑫吖--://@K-Top数据组:#蔡徐坤新歌重生# [心]在国外要好好照顾好自己坤坤  我们一直在等你@蔡徐坤                                                       1\n",
       "小可爱//@KUNapples:哥哥记得保暖[抱抱][抱抱][抱抱]//@K-Top数据组:#蔡徐坤新歌重生# [心]在国外要好好照顾好自己坤坤  我们一直在等你@蔡徐坤                              1\n",
       "对待工作好认真，我好爱[心][爱你]@蔡徐坤                                                                                             1\n",
       "正能量[鼓掌]                                                                                                            1\n",
       "新明信片 ~                                                                                                             1\n",
       "哇哇哇                                                                                                                1\n",
       "向你看齐//@向阳八月葵:认真帅气迷人的哥哥啊[羞嗒嗒]//@K-Top数据组:#蔡徐坤新歌重生# [心]在国外要好好照顾好自己坤坤  我们一直在等你@蔡徐坤                                    1\n",
       "宝贝有好好地寄明信片！[心]@蔡徐坤 努力工作叭~等你                                                                                        1\n",
       "乖宝贝@蔡徐坤                                                                                                            1\n",
       "收到了！！想你                                                                                                            1\n",
       "#prada代言人蔡徐坤# //@KUN坤-Tiffany:好的[污]                                                                                1\n",
       "收到啦！哥哥的握笔姿势太小葵了～加油哦                                                                                                1\n",
       "🙂//@KUN坤-Tiffany:好的[污]                                                                                             1\n",
       "[爱你][爱你]//@莫莫姑娘哟:#蔡徐坤[超话]#cxk#蔡徐坤新歌重生# 想你                                                                          1\n",
       "我好想你呀                                                                                                              1\n",
       "希望全世界都爱你，你的努力有人看到，你的付出有人心疼，你的成就有人肯定——蔡徐坤//@Holly清华:#蔡徐坤[超话]#|#蔡徐坤新歌重生# 收到！认真工作的蓝朋友最帅[好爱哦]@蔡徐坤                      1\n",
       "不知道为什么多看几遍重点就跑到手上的铅笔去了[笑cry][笑cry]                                                                                 1\n",
       "30//@IKUN葵玖九:[心]//@K-Top数据组:#蔡徐坤新歌重生# [心]在国外要好好照顾好自己坤坤  我们一直在等你@蔡徐坤                                                1\n",
       "修炼//@蔡徐坤家的October:意识到//@K-Top数据组:#蔡徐坤新歌重生# [心]在国外要好好照顾好自己坤坤  我们一直在等你@蔡徐坤                                           1\n",
       "哥哥加油！别太累啦                                                                                                          1\n",
       "！！！！！                                                                                                              1\n",
       "All I do is wait wait wait                                                                                         1\n",
       "工作的样子真帅啊 好喜欢[好喜欢]                                                                                                  1\n",
       "cvgg//@坤家的研兮 :转发微博                                                                                                 1\n",
       "下午好                                                                                                                1\n",
       "完美无缺//@向阳八月葵:认真帅气迷人的哥哥啊[羞嗒嗒]//@K-Top数据组:#蔡徐坤新歌重生# [心]在国外要好好照顾好自己坤坤  我们一直在等你@蔡徐坤                                    1\n",
       "盼望着你的归来也希望我能早点有机会去见你，看你的表演，但是看情况我只能等到个巡了，期待着早日见面，现场感受你的表演[鲜花][鲜花][鲜花]，我相信一定会等到的                                    1\n",
       "淦 ！！！！                                                                                                             1\n",
       "Name: raw_text, Length: 5643, dtype: int64"
      ]
     },
     "execution_count": 102,
     "metadata": {},
     "output_type": "execute_result"
    }
   ],
   "source": [
    "c_repost['raw_text'].value_counts().sort_values(ascending=False)"
   ]
  },
  {
   "cell_type": "code",
   "execution_count": 103,
   "metadata": {},
   "outputs": [
    {
     "data": {
      "text/plain": [
       "0.16562835660580022"
      ]
     },
     "execution_count": 103,
     "metadata": {},
     "output_type": "execute_result"
    }
   ],
   "source": [
    "len(h_repost[h_repost['raw_text'].str.contains('#')])/len(h_repost)"
   ]
  },
  {
   "cell_type": "code",
   "execution_count": 104,
   "metadata": {},
   "outputs": [
    {
     "data": {
      "text/plain": [
       "0.34595669465311535"
      ]
     },
     "execution_count": 104,
     "metadata": {},
     "output_type": "execute_result"
    }
   ],
   "source": [
    "len(c_repost[c_repost['raw_text'].str.contains('#')])/len(c_repost)"
   ]
  },
  {
   "cell_type": "code",
   "execution_count": 105,
   "metadata": {},
   "outputs": [],
   "source": [
    "# 带话题的比例有差距"
   ]
  },
  {
   "cell_type": "code",
   "execution_count": 106,
   "metadata": {},
   "outputs": [
    {
     "data": {
      "text/plain": [
       "0.22117538744821236"
      ]
     },
     "execution_count": 106,
     "metadata": {},
     "output_type": "execute_result"
    }
   ],
   "source": [
    "len(h_repost[h_repost['raw_text'].str.contains('@')])/len(h_repost)"
   ]
  },
  {
   "cell_type": "code",
   "execution_count": 107,
   "metadata": {},
   "outputs": [
    {
     "data": {
      "text/plain": [
       "0.4781263809102961"
      ]
     },
     "execution_count": 107,
     "metadata": {},
     "output_type": "execute_result"
    }
   ],
   "source": [
    "len(c_repost[c_repost['raw_text'].str.contains('@')])/len(c_repost)"
   ]
  },
  {
   "cell_type": "code",
   "execution_count": 108,
   "metadata": {},
   "outputs": [],
   "source": [
    "# @人的比例有差距"
   ]
  },
  {
   "cell_type": "markdown",
   "metadata": {},
   "source": [
    "# 根据转发次数分类"
   ]
  },
  {
   "cell_type": "code",
   "execution_count": 138,
   "metadata": {},
   "outputs": [],
   "source": [
    "h1_r_unique = h_r_unique[h_r_unique['repost_times']==1]\n",
    "h2_r_unique = h_r_unique[h_r_unique['repost_times']>1]"
   ]
  },
  {
   "cell_type": "code",
   "execution_count": 189,
   "metadata": {},
   "outputs": [],
   "source": [
    "c1_r_unique = c_r_unique[c_r_unique['repost_times']==1]\n",
    "c2_r_unique = c_r_unique[c_r_unique['repost_times']>1]\n",
    "c3_r_unique = c_r_unique[c_r_unique['repost_times']>2]"
   ]
  },
  {
   "cell_type": "code",
   "execution_count": 190,
   "metadata": {},
   "outputs": [
    {
     "name": "stdout",
     "output_type": "stream",
     "text": [
      "韩寒转发次数等于1次的人数： 17536\n",
      "韩寒转发次数大于1次的人数： 7318\n",
      "蔡徐坤转发次数等于1次的人数： 3950\n",
      "蔡徐坤转发次数大于1次的人数： 3473\n",
      "蔡徐坤转发次数大于5次的人数： 1634\n"
     ]
    }
   ],
   "source": [
    "print(\"韩寒转发次数等于1次的人数：\",len(h1_r_unique))\n",
    "print(\"韩寒转发次数大于1次的人数：\",len(h2_r_unique))\n",
    "print(\"蔡徐坤转发次数等于1次的人数：\",len(c1_r_unique))\n",
    "print(\"蔡徐坤转发次数大于1次的人数：\",len(c2_r_unique))\n",
    "print(\"蔡徐坤转发次数大于5次的人数：\",len(c3_r_unique))"
   ]
  },
  {
   "cell_type": "markdown",
   "metadata": {},
   "source": [
    "# 性别"
   ]
  },
  {
   "cell_type": "code",
   "execution_count": 141,
   "metadata": {},
   "outputs": [],
   "source": [
    "h1_gender_f = h1_r_unique[h1_r_unique['gender']==\"f\"].count()['gender']\n",
    "h1_gender_m = h1_r_unique[h1_r_unique['gender']==\"m\"].count()['gender']\n",
    "h2_gender_f = h2_r_unique[h2_r_unique['gender']==\"f\"].count()['gender']\n",
    "h2_gender_m = h2_r_unique[h2_r_unique['gender']==\"m\"].count()['gender']"
   ]
  },
  {
   "cell_type": "code",
   "execution_count": 143,
   "metadata": {},
   "outputs": [
    {
     "name": "stdout",
     "output_type": "stream",
     "text": [
      "韩寒1转发者的男性数量为： 6738 女性数量为： 10798 男女比例为： 0.6240044452676422\n",
      "韩寒2转发者的男性数量为： 2737 女性数量为： 4581 男女比例为： 0.5974678017900021\n"
     ]
    }
   ],
   "source": [
    "print(\"韩寒1转发者的男性数量为：\",h1_gender_m,\"女性数量为：\",h1_gender_f,\"男女比例为：\",float(h1_gender_m/h1_gender_f))\n",
    "print(\"韩寒2转发者的男性数量为：\",h2_gender_m,\"女性数量为：\",h2_gender_f,\"男女比例为：\",float(h2_gender_m/h2_gender_f))"
   ]
  },
  {
   "cell_type": "code",
   "execution_count": 191,
   "metadata": {},
   "outputs": [],
   "source": [
    "c1_gender_f = c1_r_unique[c1_r_unique['gender']==\"f\"].count()['gender']\n",
    "c1_gender_m = c1_r_unique[c1_r_unique['gender']==\"m\"].count()['gender']\n",
    "c2_gender_f = c2_r_unique[c2_r_unique['gender']==\"f\"].count()['gender']\n",
    "c2_gender_m = c2_r_unique[c2_r_unique['gender']==\"m\"].count()['gender']\n",
    "c3_gender_f = c3_r_unique[c3_r_unique['gender']==\"f\"].count()['gender']\n",
    "c3_gender_m = c3_r_unique[c3_r_unique['gender']==\"m\"].count()['gender']"
   ]
  },
  {
   "cell_type": "code",
   "execution_count": 192,
   "metadata": {},
   "outputs": [
    {
     "name": "stdout",
     "output_type": "stream",
     "text": [
      "蔡徐坤1转发者的男性数量为： 742 女性数量为： 3208 男女比例为： 0.23129675810473815\n",
      "蔡徐坤2转发者的男性数量为： 906 女性数量为： 2567 男女比例为： 0.35294117647058826\n",
      "蔡徐坤3转发者的男性数量为： 487 女性数量为： 1147 男女比例为： 0.4245858761987794\n"
     ]
    }
   ],
   "source": [
    "print(\"蔡徐坤1转发者的男性数量为：\",c1_gender_m,\"女性数量为：\",c1_gender_f,\"男女比例为：\",float(c1_gender_m/c1_gender_f))\n",
    "print(\"蔡徐坤2转发者的男性数量为：\",c2_gender_m,\"女性数量为：\",c2_gender_f,\"男女比例为：\",float(c2_gender_m/c2_gender_f))\n",
    "print(\"蔡徐坤3转发者的男性数量为：\",c3_gender_m,\"女性数量为：\",c3_gender_f,\"男女比例为：\",float(c3_gender_m/c3_gender_f))"
   ]
  },
  {
   "cell_type": "code",
   "execution_count": 193,
   "metadata": {},
   "outputs": [],
   "source": [
    "# 很明显，蔡徐坤的转发者男女比例随着转发数量的增加导致变化"
   ]
  },
  {
   "cell_type": "markdown",
   "metadata": {},
   "source": [
    "# 粉丝数和关注数"
   ]
  },
  {
   "cell_type": "code",
   "execution_count": 194,
   "metadata": {},
   "outputs": [
    {
     "name": "stdout",
     "output_type": "stream",
     "text": [
      "韩寒1转发者的平均粉丝数为： 2133.3434078467153\n",
      "韩寒2转发者的平均粉丝数为： 13331.112052473354\n",
      "蔡徐坤1转发者的平均粉丝数为： 192.96582278481011\n",
      "蔡徐坤2转发者的平均粉丝数为： 188.90814857471926\n",
      "蔡徐坤3转发者的平均粉丝数为： 217.14626682986537\n",
      "韩寒1转发者的最大粉丝数为： 3314269\n",
      "韩寒2转发者的最大粉丝数为： 45841260\n",
      "蔡徐坤1转发者的最大粉丝数为： 51690\n",
      "蔡徐坤2转发者的最大粉丝数为： 33545\n",
      "蔡徐坤3转发者的最大粉丝数为： 33545\n",
      "韩寒1转发者的粉丝数方差为： 1869625394.6144464\n",
      "韩寒2转发者的粉丝数方差为： 368001944937.10223\n",
      "蔡徐坤1转发者的粉丝数方差为： 1671988.3272692086\n",
      "蔡徐坤2转发者的粉丝数方差为： 899623.8633926824\n",
      "蔡徐坤3转发者的粉丝数方差为： 1479847.6962904094\n",
      "韩寒1转发者的粉丝数中值为： 212.0\n",
      "韩寒2转发者的粉丝数中值为： 222.0\n",
      "蔡徐坤1转发者的粉丝数中值为： 53.0\n",
      "蔡徐坤2转发者的粉丝数中值为： 52.0\n",
      "蔡徐坤3转发者的粉丝数中值为： 50.0\n"
     ]
    }
   ],
   "source": [
    "print('韩寒1转发者的平均粉丝数为：',np.average(h1_r_unique['followers_count']))\n",
    "print('韩寒2转发者的平均粉丝数为：',np.average(h2_r_unique['followers_count']))\n",
    "print('蔡徐坤1转发者的平均粉丝数为：',np.average(c1_r_unique['followers_count']))\n",
    "print('蔡徐坤2转发者的平均粉丝数为：',np.average(c2_r_unique['followers_count']))\n",
    "print('蔡徐坤3转发者的平均粉丝数为：',np.average(c3_r_unique['followers_count']))\n",
    "print('韩寒1转发者的最大粉丝数为：',h1_r_unique['followers_count'].max())\n",
    "print('韩寒2转发者的最大粉丝数为：',h2_r_unique['followers_count'].max())\n",
    "print('蔡徐坤1转发者的最大粉丝数为：',c1_r_unique['followers_count'].max())\n",
    "print('蔡徐坤2转发者的最大粉丝数为：',c2_r_unique['followers_count'].max())\n",
    "print('蔡徐坤3转发者的最大粉丝数为：',c3_r_unique['followers_count'].max())\n",
    "print('韩寒1转发者的粉丝数方差为：',h1_r_unique['followers_count'].var())\n",
    "print('韩寒2转发者的粉丝数方差为：',h2_r_unique['followers_count'].var())\n",
    "print('蔡徐坤1转发者的粉丝数方差为：',c1_r_unique['followers_count'].var())\n",
    "print('蔡徐坤2转发者的粉丝数方差为：',c2_r_unique['followers_count'].var())\n",
    "print('蔡徐坤3转发者的粉丝数方差为：',c3_r_unique['followers_count'].var())\n",
    "print('韩寒1转发者的粉丝数中值为：',h1_r_unique['followers_count'].median())\n",
    "print('韩寒2转发者的粉丝数中值为：',h2_r_unique['followers_count'].median())\n",
    "print('蔡徐坤1转发者的粉丝数中值为：',c1_r_unique['followers_count'].median())\n",
    "print('蔡徐坤2转发者的粉丝数中值为：',c2_r_unique['followers_count'].median())\n",
    "print('蔡徐坤3转发者的粉丝数中值为：',c3_r_unique['followers_count'].median())"
   ]
  },
  {
   "cell_type": "code",
   "execution_count": 151,
   "metadata": {},
   "outputs": [
    {
     "data": {
      "image/png": "[encoded data removed]",
      "text/plain": [
       "<matplotlib.figure.Figure at 0x296e6259710>"
      ]
     },
     "metadata": {},
     "output_type": "display_data"
    }
   ],
   "source": [
    "fig, ax = plt.subplots()\n",
    "x = h1_r_unique['follow_count']\n",
    "ax.set_xlabel(u'关注数',fontproperties=font)\n",
    "y = h1_r_unique['followers_count']\n",
    "ax.set_ylabel(u'粉丝数',fontproperties=font)\n",
    "ax.scatter(x,y)\n",
    "plt.show()"
   ]
  },
  {
   "cell_type": "code",
   "execution_count": 156,
   "metadata": {},
   "outputs": [
    {
     "data": {
      "image/png": "[encoded data removed]",
      "text/plain": [
       "<matplotlib.figure.Figure at 0x296e6161198>"
      ]
     },
     "metadata": {},
     "output_type": "display_data"
    }
   ],
   "source": [
    "fig, ax = plt.subplots()\n",
    "x = h2_r_unique['follow_count']\n",
    "ax.set_xlabel(u'关注数',fontproperties=font)\n",
    "y = h2_r_unique['followers_count']\n",
    "ax.set_ylabel(u'粉丝数',fontproperties=font)\n",
    "ax.scatter(x,y)\n",
    "plt.show()"
   ]
  },
  {
   "cell_type": "code",
   "execution_count": 157,
   "metadata": {},
   "outputs": [
    {
     "data": {
      "image/png": "[encoded data removed]",
      "text/plain": [
       "<matplotlib.figure.Figure at 0x296ebb50dd8>"
      ]
     },
     "metadata": {},
     "output_type": "display_data"
    }
   ],
   "source": [
    "fig, ax = plt.subplots()\n",
    "x = h1_r_unique['follow_count']\n",
    "ax.set_xlabel(u'关注数',fontproperties=font)\n",
    "y = np.log(h1_r_unique['followers_count'])\n",
    "ax.set_ylabel(u'粉丝数',fontproperties=font)\n",
    "ax.scatter(x,y)\n",
    "plt.show()"
   ]
  },
  {
   "cell_type": "code",
   "execution_count": 158,
   "metadata": {},
   "outputs": [
    {
     "data": {
      "image/png": "[encoded data removed]",
      "text/plain": [
       "<matplotlib.figure.Figure at 0x296e582af60>"
      ]
     },
     "metadata": {},
     "output_type": "display_data"
    }
   ],
   "source": [
    "fig, ax = plt.subplots()\n",
    "x = h2_r_unique['follow_count']\n",
    "ax.set_xlabel(u'关注数',fontproperties=font)\n",
    "y = np.log(h2_r_unique['followers_count'])\n",
    "ax.set_ylabel(u'粉丝数',fontproperties=font)\n",
    "ax.scatter(x,y)\n",
    "plt.show()"
   ]
  },
  {
   "cell_type": "code",
   "execution_count": 160,
   "metadata": {},
   "outputs": [
    {
     "data": {
      "image/png": "[encoded data removed]",
      "text/plain": [
       "<matplotlib.figure.Figure at 0x296e60d79e8>"
      ]
     },
     "metadata": {},
     "output_type": "display_data"
    }
   ],
   "source": [
    "fig, ax = plt.subplots()\n",
    "x = c1_r_unique['follow_count']\n",
    "ax.set_xlabel(u'关注数',fontproperties=font)\n",
    "y = c1_r_unique['followers_count']\n",
    "ax.set_ylabel(u'粉丝数',fontproperties=font)\n",
    "ax.scatter(x,y)\n",
    "plt.show()"
   ]
  },
  {
   "cell_type": "code",
   "execution_count": 161,
   "metadata": {},
   "outputs": [
    {
     "data": {
      "image/png": "[encoded data removed]",
      "text/plain": [
       "<matplotlib.figure.Figure at 0x296e6a0dd30>"
      ]
     },
     "metadata": {},
     "output_type": "display_data"
    }
   ],
   "source": [
    "fig, ax = plt.subplots()\n",
    "x = c2_r_unique['follow_count']\n",
    "ax.set_xlabel(u'关注数',fontproperties=font)\n",
    "y = c2_r_unique['followers_count']\n",
    "ax.set_ylabel(u'粉丝数',fontproperties=font)\n",
    "ax.scatter(x,y)\n",
    "plt.show()"
   ]
  },
  {
   "cell_type": "code",
   "execution_count": 195,
   "metadata": {},
   "outputs": [
    {
     "data": {
      "image/png": "[encoded data removed]",
      "text/plain": [
       "<matplotlib.figure.Figure at 0x296e9adc5f8>"
      ]
     },
     "metadata": {},
     "output_type": "display_data"
    }
   ],
   "source": [
    "fig, ax = plt.subplots()\n",
    "x = c3_r_unique['follow_count']\n",
    "ax.set_xlabel(u'关注数',fontproperties=font)\n",
    "y = c3_r_unique['followers_count']\n",
    "ax.set_ylabel(u'粉丝数',fontproperties=font)\n",
    "ax.scatter(x,y)\n",
    "plt.show()"
   ]
  },
  {
   "cell_type": "code",
   "execution_count": 162,
   "metadata": {},
   "outputs": [
    {
     "data": {
      "image/png": "[encoded data removed]",
      "text/plain": [
       "<matplotlib.figure.Figure at 0x296e64c2518>"
      ]
     },
     "metadata": {},
     "output_type": "display_data"
    }
   ],
   "source": [
    "fig, ax = plt.subplots()\n",
    "x = c1_r_unique['follow_count']\n",
    "ax.set_xlabel(u'关注数',fontproperties=font)\n",
    "y = np.log(c1_r_unique['followers_count'])\n",
    "ax.set_ylabel(u'粉丝数',fontproperties=font)\n",
    "ax.scatter(x,y)\n",
    "plt.show()"
   ]
  },
  {
   "cell_type": "code",
   "execution_count": 163,
   "metadata": {},
   "outputs": [
    {
     "data": {
      "image/png": "[encoded data removed]",
      "text/plain": [
       "<matplotlib.figure.Figure at 0x296ebe97e48>"
      ]
     },
     "metadata": {},
     "output_type": "display_data"
    }
   ],
   "source": [
    "fig, ax = plt.subplots()\n",
    "x = c2_r_unique['follow_count']\n",
    "ax.set_xlabel(u'关注数',fontproperties=font)\n",
    "y = np.log(c2_r_unique['followers_count'])\n",
    "ax.set_ylabel(u'粉丝数',fontproperties=font)\n",
    "ax.scatter(x,y)\n",
    "plt.show()"
   ]
  },
  {
   "cell_type": "code",
   "execution_count": 196,
   "metadata": {},
   "outputs": [
    {
     "data": {
      "image/png": "[encoded data removed]",
      "text/plain": [
       "<matplotlib.figure.Figure at 0x296e9abed30>"
      ]
     },
     "metadata": {},
     "output_type": "display_data"
    }
   ],
   "source": [
    "fig, ax = plt.subplots()\n",
    "x = c3_r_unique['follow_count']\n",
    "ax.set_xlabel(u'关注数',fontproperties=font)\n",
    "y = np.log(c3_r_unique['followers_count'])\n",
    "ax.set_ylabel(u'粉丝数',fontproperties=font)\n",
    "ax.scatter(x,y)\n",
    "plt.show()"
   ]
  },
  {
   "cell_type": "code",
   "execution_count": 197,
   "metadata": {},
   "outputs": [],
   "source": [
    "h1_f = h1_r_unique['fan_pro'].sort_values()\n",
    "h1_f = h1_f.reset_index(drop=True)\n",
    "c1_f = c1_r_unique['fan_pro'].sort_values()\n",
    "c1_f = c1_f.reset_index(drop=True)\n",
    "h2_f = h2_r_unique['fan_pro'].sort_values()\n",
    "h2_f = h2_f.reset_index(drop=True)\n",
    "c2_f = c2_r_unique['fan_pro'].sort_values()\n",
    "c2_f = c2_f.reset_index(drop=True)\n",
    "c3_f = c3_r_unique['fan_pro'].sort_values()\n",
    "c3_f = c3_f.reset_index(drop=True)"
   ]
  },
  {
   "cell_type": "code",
   "execution_count": 165,
   "metadata": {},
   "outputs": [
    {
     "data": {
      "image/png": "[encoded data removed]",
      "text/plain": [
       "<matplotlib.figure.Figure at 0x296e90a2320>"
      ]
     },
     "metadata": {},
     "output_type": "display_data"
    }
   ],
   "source": [
    "fig, ax = plt.subplots()\n",
    "x = h1_f.index\n",
    "ax.set_xlabel(u'序号',fontproperties=font)\n",
    "y = np.log(h1_f.values)\n",
    "ax.set_ylabel(u'粉丝关注比',fontproperties=font)\n",
    "ax.scatter(x,y)\n",
    "plt.show()"
   ]
  },
  {
   "cell_type": "code",
   "execution_count": 166,
   "metadata": {},
   "outputs": [
    {
     "data": {
      "image/png": "[encoded data removed]",
      "text/plain": [
       "<matplotlib.figure.Figure at 0x296eb2b8be0>"
      ]
     },
     "metadata": {},
     "output_type": "display_data"
    }
   ],
   "source": [
    "fig, ax = plt.subplots()\n",
    "x = h2_f.index\n",
    "ax.set_xlabel(u'序号',fontproperties=font)\n",
    "y = np.log(h2_f.values)\n",
    "ax.set_ylabel(u'粉丝关注比',fontproperties=font)\n",
    "ax.scatter(x,y)\n",
    "plt.show()"
   ]
  },
  {
   "cell_type": "code",
   "execution_count": 167,
   "metadata": {},
   "outputs": [
    {
     "data": {
      "image/png": "[encoded data removed]",
      "text/plain": [
       "<matplotlib.figure.Figure at 0x296eb2ae0b8>"
      ]
     },
     "metadata": {},
     "output_type": "display_data"
    }
   ],
   "source": [
    "fig, ax = plt.subplots()\n",
    "x = c1_f.index\n",
    "ax.set_xlabel(u'序号',fontproperties=font)\n",
    "y = np.log(c1_f.values)\n",
    "ax.set_ylabel(u'粉丝关注比',fontproperties=font)\n",
    "ax.scatter(x,y)\n",
    "plt.show()"
   ]
  },
  {
   "cell_type": "code",
   "execution_count": 168,
   "metadata": {},
   "outputs": [
    {
     "data": {
      "image/png": "[encoded data removed]",
      "text/plain": [
       "<matplotlib.figure.Figure at 0x296ebbb45f8>"
      ]
     },
     "metadata": {},
     "output_type": "display_data"
    }
   ],
   "source": [
    "fig, ax = plt.subplots()\n",
    "x = c2_f.index\n",
    "ax.set_xlabel(u'序号',fontproperties=font)\n",
    "y = np.log(c2_f.values)\n",
    "ax.set_ylabel(u'粉丝关注比',fontproperties=font)\n",
    "ax.scatter(x,y)\n",
    "plt.show()"
   ]
  },
  {
   "cell_type": "code",
   "execution_count": 198,
   "metadata": {},
   "outputs": [
    {
     "data": {
      "image/png": "[encoded data removed]",
      "text/plain": [
       "<matplotlib.figure.Figure at 0x296e9adc7f0>"
      ]
     },
     "metadata": {},
     "output_type": "display_data"
    }
   ],
   "source": [
    "fig, ax = plt.subplots()\n",
    "x = c3_f.index\n",
    "ax.set_xlabel(u'序号',fontproperties=font)\n",
    "y = np.log(c3_f.values)\n",
    "ax.set_ylabel(u'粉丝关注比',fontproperties=font)\n",
    "ax.scatter(x,y)\n",
    "plt.show()"
   ]
  },
  {
   "cell_type": "markdown",
   "metadata": {},
   "source": [
    "# 发博数、等级urank、勋章数badge"
   ]
  },
  {
   "cell_type": "code",
   "execution_count": 181,
   "metadata": {},
   "outputs": [
    {
     "data": {
      "text/html": [
       "<div>\n",
       "<style scoped>\n",
       "    .dataframe tbody tr th:only-of-type {\n",
       "        vertical-align: middle;\n",
       "    }\n",
       "\n",
       "    .dataframe tbody tr th {\n",
       "        vertical-align: top;\n",
       "    }\n",
       "\n",
       "    .dataframe thead th {\n",
       "        text-align: right;\n",
       "    }\n",
       "</style>\n",
       "<table border=\"1\" class=\"dataframe\">\n",
       "  <thead>\n",
       "    <tr style=\"text-align: right;\">\n",
       "      <th></th>\n",
       "      <th>statuses_count</th>\n",
       "      <th>urank</th>\n",
       "      <th>badge</th>\n",
       "    </tr>\n",
       "  </thead>\n",
       "  <tbody>\n",
       "    <tr>\n",
       "      <th>count</th>\n",
       "      <td>17536.000000</td>\n",
       "      <td>17536.000000</td>\n",
       "      <td>17536.000000</td>\n",
       "    </tr>\n",
       "    <tr>\n",
       "      <th>mean</th>\n",
       "      <td>2907.834113</td>\n",
       "      <td>23.598141</td>\n",
       "      <td>8.667256</td>\n",
       "    </tr>\n",
       "    <tr>\n",
       "      <th>std</th>\n",
       "      <td>7258.479478</td>\n",
       "      <td>13.537345</td>\n",
       "      <td>5.174147</td>\n",
       "    </tr>\n",
       "    <tr>\n",
       "      <th>min</th>\n",
       "      <td>0.000000</td>\n",
       "      <td>0.000000</td>\n",
       "      <td>0.000000</td>\n",
       "    </tr>\n",
       "    <tr>\n",
       "      <th>25%</th>\n",
       "      <td>314.000000</td>\n",
       "      <td>9.000000</td>\n",
       "      <td>5.000000</td>\n",
       "    </tr>\n",
       "    <tr>\n",
       "      <th>50%</th>\n",
       "      <td>982.000000</td>\n",
       "      <td>27.000000</td>\n",
       "      <td>8.000000</td>\n",
       "    </tr>\n",
       "    <tr>\n",
       "      <th>75%</th>\n",
       "      <td>2840.250000</td>\n",
       "      <td>35.000000</td>\n",
       "      <td>11.000000</td>\n",
       "    </tr>\n",
       "    <tr>\n",
       "      <th>max</th>\n",
       "      <td>337254.000000</td>\n",
       "      <td>48.000000</td>\n",
       "      <td>42.000000</td>\n",
       "    </tr>\n",
       "  </tbody>\n",
       "</table>\n",
       "</div>"
      ],
      "text/plain": [
       "       statuses_count         urank         badge\n",
       "count    17536.000000  17536.000000  17536.000000\n",
       "mean      2907.834113     23.598141      8.667256\n",
       "std       7258.479478     13.537345      5.174147\n",
       "min          0.000000      0.000000      0.000000\n",
       "25%        314.000000      9.000000      5.000000\n",
       "50%        982.000000     27.000000      8.000000\n",
       "75%       2840.250000     35.000000     11.000000\n",
       "max     337254.000000     48.000000     42.000000"
      ]
     },
     "execution_count": 181,
     "metadata": {},
     "output_type": "execute_result"
    }
   ],
   "source": [
    "h1_r_unique[['statuses_count','urank','badge']].describe()"
   ]
  },
  {
   "cell_type": "code",
   "execution_count": 182,
   "metadata": {},
   "outputs": [
    {
     "data": {
      "text/html": [
       "<div>\n",
       "<style scoped>\n",
       "    .dataframe tbody tr th:only-of-type {\n",
       "        vertical-align: middle;\n",
       "    }\n",
       "\n",
       "    .dataframe tbody tr th {\n",
       "        vertical-align: top;\n",
       "    }\n",
       "\n",
       "    .dataframe thead th {\n",
       "        text-align: right;\n",
       "    }\n",
       "</style>\n",
       "<table border=\"1\" class=\"dataframe\">\n",
       "  <thead>\n",
       "    <tr style=\"text-align: right;\">\n",
       "      <th></th>\n",
       "      <th>statuses_count</th>\n",
       "      <th>urank</th>\n",
       "      <th>badge</th>\n",
       "    </tr>\n",
       "  </thead>\n",
       "  <tbody>\n",
       "    <tr>\n",
       "      <th>count</th>\n",
       "      <td>7318.000000</td>\n",
       "      <td>7318.000000</td>\n",
       "      <td>7318.000000</td>\n",
       "    </tr>\n",
       "    <tr>\n",
       "      <th>mean</th>\n",
       "      <td>3403.807051</td>\n",
       "      <td>24.405029</td>\n",
       "      <td>9.171358</td>\n",
       "    </tr>\n",
       "    <tr>\n",
       "      <th>std</th>\n",
       "      <td>8413.217524</td>\n",
       "      <td>13.722406</td>\n",
       "      <td>5.499800</td>\n",
       "    </tr>\n",
       "    <tr>\n",
       "      <th>min</th>\n",
       "      <td>1.000000</td>\n",
       "      <td>0.000000</td>\n",
       "      <td>0.000000</td>\n",
       "    </tr>\n",
       "    <tr>\n",
       "      <th>25%</th>\n",
       "      <td>374.000000</td>\n",
       "      <td>9.000000</td>\n",
       "      <td>5.000000</td>\n",
       "    </tr>\n",
       "    <tr>\n",
       "      <th>50%</th>\n",
       "      <td>1134.000000</td>\n",
       "      <td>28.000000</td>\n",
       "      <td>8.000000</td>\n",
       "    </tr>\n",
       "    <tr>\n",
       "      <th>75%</th>\n",
       "      <td>3277.750000</td>\n",
       "      <td>36.000000</td>\n",
       "      <td>12.000000</td>\n",
       "    </tr>\n",
       "    <tr>\n",
       "      <th>max</th>\n",
       "      <td>303310.000000</td>\n",
       "      <td>48.000000</td>\n",
       "      <td>45.000000</td>\n",
       "    </tr>\n",
       "  </tbody>\n",
       "</table>\n",
       "</div>"
      ],
      "text/plain": [
       "       statuses_count        urank        badge\n",
       "count     7318.000000  7318.000000  7318.000000\n",
       "mean      3403.807051    24.405029     9.171358\n",
       "std       8413.217524    13.722406     5.499800\n",
       "min          1.000000     0.000000     0.000000\n",
       "25%        374.000000     9.000000     5.000000\n",
       "50%       1134.000000    28.000000     8.000000\n",
       "75%       3277.750000    36.000000    12.000000\n",
       "max     303310.000000    48.000000    45.000000"
      ]
     },
     "execution_count": 182,
     "metadata": {},
     "output_type": "execute_result"
    }
   ],
   "source": [
    "h2_r_unique[['statuses_count','urank','badge']].describe()"
   ]
  },
  {
   "cell_type": "code",
   "execution_count": 183,
   "metadata": {},
   "outputs": [
    {
     "data": {
      "text/html": [
       "<div>\n",
       "<style scoped>\n",
       "    .dataframe tbody tr th:only-of-type {\n",
       "        vertical-align: middle;\n",
       "    }\n",
       "\n",
       "    .dataframe tbody tr th {\n",
       "        vertical-align: top;\n",
       "    }\n",
       "\n",
       "    .dataframe thead th {\n",
       "        text-align: right;\n",
       "    }\n",
       "</style>\n",
       "<table border=\"1\" class=\"dataframe\">\n",
       "  <thead>\n",
       "    <tr style=\"text-align: right;\">\n",
       "      <th></th>\n",
       "      <th>statuses_count</th>\n",
       "      <th>urank</th>\n",
       "      <th>badge</th>\n",
       "    </tr>\n",
       "  </thead>\n",
       "  <tbody>\n",
       "    <tr>\n",
       "      <th>count</th>\n",
       "      <td>3950.000000</td>\n",
       "      <td>3950.000000</td>\n",
       "      <td>3950.000000</td>\n",
       "    </tr>\n",
       "    <tr>\n",
       "      <th>mean</th>\n",
       "      <td>2579.955949</td>\n",
       "      <td>10.701013</td>\n",
       "      <td>9.722532</td>\n",
       "    </tr>\n",
       "    <tr>\n",
       "      <th>std</th>\n",
       "      <td>4627.584782</td>\n",
       "      <td>9.183119</td>\n",
       "      <td>5.986223</td>\n",
       "    </tr>\n",
       "    <tr>\n",
       "      <th>min</th>\n",
       "      <td>0.000000</td>\n",
       "      <td>0.000000</td>\n",
       "      <td>0.000000</td>\n",
       "    </tr>\n",
       "    <tr>\n",
       "      <th>25%</th>\n",
       "      <td>234.000000</td>\n",
       "      <td>4.000000</td>\n",
       "      <td>5.000000</td>\n",
       "    </tr>\n",
       "    <tr>\n",
       "      <th>50%</th>\n",
       "      <td>937.000000</td>\n",
       "      <td>9.000000</td>\n",
       "      <td>10.000000</td>\n",
       "    </tr>\n",
       "    <tr>\n",
       "      <th>75%</th>\n",
       "      <td>2978.750000</td>\n",
       "      <td>14.000000</td>\n",
       "      <td>14.000000</td>\n",
       "    </tr>\n",
       "    <tr>\n",
       "      <th>max</th>\n",
       "      <td>81435.000000</td>\n",
       "      <td>48.000000</td>\n",
       "      <td>35.000000</td>\n",
       "    </tr>\n",
       "  </tbody>\n",
       "</table>\n",
       "</div>"
      ],
      "text/plain": [
       "       statuses_count        urank        badge\n",
       "count     3950.000000  3950.000000  3950.000000\n",
       "mean      2579.955949    10.701013     9.722532\n",
       "std       4627.584782     9.183119     5.986223\n",
       "min          0.000000     0.000000     0.000000\n",
       "25%        234.000000     4.000000     5.000000\n",
       "50%        937.000000     9.000000    10.000000\n",
       "75%       2978.750000    14.000000    14.000000\n",
       "max      81435.000000    48.000000    35.000000"
      ]
     },
     "execution_count": 183,
     "metadata": {},
     "output_type": "execute_result"
    }
   ],
   "source": [
    "c1_r_unique[['statuses_count','urank','badge']].describe()"
   ]
  },
  {
   "cell_type": "code",
   "execution_count": 184,
   "metadata": {},
   "outputs": [
    {
     "data": {
      "text/html": [
       "<div>\n",
       "<style scoped>\n",
       "    .dataframe tbody tr th:only-of-type {\n",
       "        vertical-align: middle;\n",
       "    }\n",
       "\n",
       "    .dataframe tbody tr th {\n",
       "        vertical-align: top;\n",
       "    }\n",
       "\n",
       "    .dataframe thead th {\n",
       "        text-align: right;\n",
       "    }\n",
       "</style>\n",
       "<table border=\"1\" class=\"dataframe\">\n",
       "  <thead>\n",
       "    <tr style=\"text-align: right;\">\n",
       "      <th></th>\n",
       "      <th>statuses_count</th>\n",
       "      <th>urank</th>\n",
       "      <th>badge</th>\n",
       "    </tr>\n",
       "  </thead>\n",
       "  <tbody>\n",
       "    <tr>\n",
       "      <th>count</th>\n",
       "      <td>3473.000000</td>\n",
       "      <td>3473.000000</td>\n",
       "      <td>3473.000000</td>\n",
       "    </tr>\n",
       "    <tr>\n",
       "      <th>mean</th>\n",
       "      <td>2990.999424</td>\n",
       "      <td>9.855744</td>\n",
       "      <td>8.650158</td>\n",
       "    </tr>\n",
       "    <tr>\n",
       "      <th>std</th>\n",
       "      <td>6224.671192</td>\n",
       "      <td>8.937293</td>\n",
       "      <td>6.151363</td>\n",
       "    </tr>\n",
       "    <tr>\n",
       "      <th>min</th>\n",
       "      <td>0.000000</td>\n",
       "      <td>0.000000</td>\n",
       "      <td>0.000000</td>\n",
       "    </tr>\n",
       "    <tr>\n",
       "      <th>25%</th>\n",
       "      <td>209.000000</td>\n",
       "      <td>4.000000</td>\n",
       "      <td>3.000000</td>\n",
       "    </tr>\n",
       "    <tr>\n",
       "      <th>50%</th>\n",
       "      <td>956.000000</td>\n",
       "      <td>9.000000</td>\n",
       "      <td>8.000000</td>\n",
       "    </tr>\n",
       "    <tr>\n",
       "      <th>75%</th>\n",
       "      <td>3333.000000</td>\n",
       "      <td>14.000000</td>\n",
       "      <td>13.000000</td>\n",
       "    </tr>\n",
       "    <tr>\n",
       "      <th>max</th>\n",
       "      <td>179692.000000</td>\n",
       "      <td>48.000000</td>\n",
       "      <td>28.000000</td>\n",
       "    </tr>\n",
       "  </tbody>\n",
       "</table>\n",
       "</div>"
      ],
      "text/plain": [
       "       statuses_count        urank        badge\n",
       "count     3473.000000  3473.000000  3473.000000\n",
       "mean      2990.999424     9.855744     8.650158\n",
       "std       6224.671192     8.937293     6.151363\n",
       "min          0.000000     0.000000     0.000000\n",
       "25%        209.000000     4.000000     3.000000\n",
       "50%        956.000000     9.000000     8.000000\n",
       "75%       3333.000000    14.000000    13.000000\n",
       "max     179692.000000    48.000000    28.000000"
      ]
     },
     "execution_count": 184,
     "metadata": {},
     "output_type": "execute_result"
    }
   ],
   "source": [
    "c2_r_unique[['statuses_count','urank','badge']].describe()"
   ]
  },
  {
   "cell_type": "code",
   "execution_count": 199,
   "metadata": {},
   "outputs": [
    {
     "data": {
      "text/html": [
       "<div>\n",
       "<style scoped>\n",
       "    .dataframe tbody tr th:only-of-type {\n",
       "        vertical-align: middle;\n",
       "    }\n",
       "\n",
       "    .dataframe tbody tr th {\n",
       "        vertical-align: top;\n",
       "    }\n",
       "\n",
       "    .dataframe thead th {\n",
       "        text-align: right;\n",
       "    }\n",
       "</style>\n",
       "<table border=\"1\" class=\"dataframe\">\n",
       "  <thead>\n",
       "    <tr style=\"text-align: right;\">\n",
       "      <th></th>\n",
       "      <th>statuses_count</th>\n",
       "      <th>urank</th>\n",
       "      <th>badge</th>\n",
       "    </tr>\n",
       "  </thead>\n",
       "  <tbody>\n",
       "    <tr>\n",
       "      <th>count</th>\n",
       "      <td>1634.000000</td>\n",
       "      <td>1634.000000</td>\n",
       "      <td>1634.000000</td>\n",
       "    </tr>\n",
       "    <tr>\n",
       "      <th>mean</th>\n",
       "      <td>3122.315789</td>\n",
       "      <td>9.167075</td>\n",
       "      <td>7.698898</td>\n",
       "    </tr>\n",
       "    <tr>\n",
       "      <th>std</th>\n",
       "      <td>5907.851447</td>\n",
       "      <td>8.621787</td>\n",
       "      <td>5.996726</td>\n",
       "    </tr>\n",
       "    <tr>\n",
       "      <th>min</th>\n",
       "      <td>0.000000</td>\n",
       "      <td>0.000000</td>\n",
       "      <td>1.000000</td>\n",
       "    </tr>\n",
       "    <tr>\n",
       "      <th>25%</th>\n",
       "      <td>206.000000</td>\n",
       "      <td>4.000000</td>\n",
       "      <td>2.000000</td>\n",
       "    </tr>\n",
       "    <tr>\n",
       "      <th>50%</th>\n",
       "      <td>1039.500000</td>\n",
       "      <td>9.000000</td>\n",
       "      <td>7.000000</td>\n",
       "    </tr>\n",
       "    <tr>\n",
       "      <th>75%</th>\n",
       "      <td>3660.250000</td>\n",
       "      <td>14.000000</td>\n",
       "      <td>12.000000</td>\n",
       "    </tr>\n",
       "    <tr>\n",
       "      <th>max</th>\n",
       "      <td>96629.000000</td>\n",
       "      <td>48.000000</td>\n",
       "      <td>26.000000</td>\n",
       "    </tr>\n",
       "  </tbody>\n",
       "</table>\n",
       "</div>"
      ],
      "text/plain": [
       "       statuses_count        urank        badge\n",
       "count     1634.000000  1634.000000  1634.000000\n",
       "mean      3122.315789     9.167075     7.698898\n",
       "std       5907.851447     8.621787     5.996726\n",
       "min          0.000000     0.000000     1.000000\n",
       "25%        206.000000     4.000000     2.000000\n",
       "50%       1039.500000     9.000000     7.000000\n",
       "75%       3660.250000    14.000000    12.000000\n",
       "max      96629.000000    48.000000    26.000000"
      ]
     },
     "execution_count": 199,
     "metadata": {},
     "output_type": "execute_result"
    }
   ],
   "source": [
    "c3_r_unique[['statuses_count','urank','badge']].describe()"
   ]
  },
  {
   "cell_type": "code",
   "execution_count": 200,
   "metadata": {},
   "outputs": [],
   "source": [
    "#平均数据下降"
   ]
  },
  {
   "cell_type": "code",
   "execution_count": null,
   "metadata": {},
   "outputs": [],
   "source": []
  }
 ],
 "metadata": {
  "kernelspec": {
   "display_name": "Python 3",
   "language": "python",
   "name": "python3"
  },
  "language_info": {
   "codemirror_mode": {
    "name": "ipython",
    "version": 3
   },
   "file_extension": ".py",
   "mimetype": "text/x-python",
   "name": "python",
   "nbconvert_exporter": "python",
   "pygments_lexer": "ipython3",
   "version": "3.6.3"
  }
 },
 "nbformat": 4,
 "nbformat_minor": 2
}
